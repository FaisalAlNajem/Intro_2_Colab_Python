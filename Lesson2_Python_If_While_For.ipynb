{
  "nbformat": 4,
  "nbformat_minor": 0,
  "metadata": {
    "colab": {
      "name": "Lesson2_Python_If_While_For.ipynb",
      "provenance": [],
      "collapsed_sections": [],
      "include_colab_link": true
    },
    "kernelspec": {
      "name": "python3",
      "display_name": "Python 3"
    }
  },
  "cells": [
    {
      "cell_type": "markdown",
      "metadata": {
        "id": "view-in-github",
        "colab_type": "text"
      },
      "source": [
        "<a href=\"https://colab.research.google.com/github/theclassofai/Intro_2_Colab_Python/blob/master/Lesson2_Python_If_While_For.ipynb\" target=\"_parent\"><img src=\"https://colab.research.google.com/assets/colab-badge.svg\" alt=\"Open In Colab\"/></a>"
      ]
    },
    {
      "cell_type": "markdown",
      "metadata": {
        "id": "uYozpk5sn5mw",
        "colab_type": "text"
      },
      "source": [
        "# Welcome to The Class of AI\n",
        "---\n",
        "\n",
        "\n",
        "\n",
        "\n",
        "\n"
      ]
    },
    {
      "cell_type": "markdown",
      "metadata": {
        "id": "AUalx1dRZ_v1",
        "colab_type": "text"
      },
      "source": [
        "## If Statements\n",
        "If statments are used to test for a particular conditions and respond appropriatly:"
      ]
    },
    {
      "cell_type": "markdown",
      "metadata": {
        "id": "WLI_QcFmcicw",
        "colab_type": "text"
      },
      "source": [
        " Conditional tests\n",
        "* equals                    : `x == 72`\n",
        "* not equal                 : `x != 72`\n",
        "* greater than              : `x > 72`\n",
        "* greater than or equal to  : `x >= 72`\n",
        "* less than                 : `x < 72`\n",
        "* less than or equal to     : `x <= 72`"
      ]
    },
    {
      "cell_type": "code",
      "metadata": {
        "id": "1Ptctc-LaBsd",
        "colab_type": "code",
        "outputId": "636d0d28-aca3-4536-b3ff-f0b3e6f45b2a",
        "colab": {
          "base_uri": "https://localhost:8080/",
          "height": 34
        }
      },
      "source": [
        "# Example \n",
        "\n",
        "x = 12\n",
        "print(x<=72)"
      ],
      "execution_count": 0,
      "outputs": [
        {
          "output_type": "stream",
          "text": [
            "True\n"
          ],
          "name": "stdout"
        }
      ]
    },
    {
      "cell_type": "code",
      "metadata": {
        "id": "z1CUP7D4dl0j",
        "colab_type": "code",
        "outputId": "4856e5da-29f5-49d1-c854-215efb0ef4e9",
        "colab": {
          "base_uri": "https://localhost:8080/",
          "height": 51
        }
      },
      "source": [
        "# Conditional test with list and tuples\n",
        "print('apple' in thistuple)# tuple\n",
        "print(8 in power_copy) # List"
      ],
      "execution_count": 0,
      "outputs": [
        {
          "output_type": "stream",
          "text": [
            "True\n",
            "True\n"
          ],
          "name": "stdout"
        }
      ]
    },
    {
      "cell_type": "code",
      "metadata": {
        "id": "Eh6b8C2ueaAU",
        "colab_type": "code",
        "outputId": "85284784-5476-474e-d089-1a1333af97d4",
        "colab": {
          "base_uri": "https://localhost:8080/",
          "height": 34
        }
      },
      "source": [
        "# A simple if test\n",
        "age = 16\n",
        "if age >= 17:\n",
        "  print(\"You can drive! \")\n",
        "else:\n",
        "  print(\"Sorry, you can't drive!\")"
      ],
      "execution_count": 0,
      "outputs": [
        {
          "output_type": "stream",
          "text": [
            "Sorry, you can't drive!\n"
          ],
          "name": "stdout"
        }
      ]
    },
    {
      "cell_type": "code",
      "metadata": {
        "id": "nNoUJ2Ymfky6",
        "colab_type": "code",
        "outputId": "12ea0ba4-b490-4356-9814-8e55f438fca1",
        "colab": {
          "base_uri": "https://localhost:8080/",
          "height": 34
        }
      },
      "source": [
        "# If else if\n",
        "age = 2\n",
        "\n",
        "if age >= 18:\n",
        "  print(\"You can watch movie\")\n",
        "elif age <=18 and age >=12:\n",
        "  print(\"You need to have some one with you above 18 to watch the movie\")\n",
        "else:\n",
        "  print(\"Sorry, you can't watch movie\")"
      ],
      "execution_count": 0,
      "outputs": [
        {
          "output_type": "stream",
          "text": [
            "Sorry, you can't watch movie\n"
          ],
          "name": "stdout"
        }
      ]
    },
    {
      "cell_type": "code",
      "metadata": {
        "id": "AlP-D8MOg-Yf",
        "colab_type": "code",
        "outputId": "08c1780d-f912-4095-d6cd-885bec297647",
        "colab": {
          "base_uri": "https://localhost:8080/",
          "height": 51
        }
      },
      "source": [
        "# Use of user input\n",
        "age = int(input(\"What is your age in years, please?\"))\n",
        "\n",
        "if age >= 18:\n",
        "  print(\"You can watch movie\")\n",
        "elif age <=18 and age >=12:\n",
        "  print(\"You need to have some one with you above 18 to watch the movie\")\n",
        "else:\n",
        "  print(\"Sorry, you can't watch movie\")"
      ],
      "execution_count": 0,
      "outputs": [
        {
          "output_type": "stream",
          "text": [
            "What is your age in years, please?34\n",
            "You can watch movie\n"
          ],
          "name": "stdout"
        }
      ]
    },
    {
      "cell_type": "markdown",
      "metadata": {
        "id": "XXC31s_KhpLi",
        "colab_type": "text"
      },
      "source": [
        "## While loop\n",
        "\n",
        "With the while loop we can execute a set of statements as long as a condition is `true`"
      ]
    },
    {
      "cell_type": "code",
      "metadata": {
        "id": "pZU_e7mphwQ_",
        "colab_type": "code",
        "outputId": "59485c75-d0f6-4524-ec32-c80bd42f362b",
        "colab": {
          "base_uri": "https://localhost:8080/",
          "height": 68
        }
      },
      "source": [
        "i = 1\n",
        "while i < 4:\n",
        "  print(i)\n",
        "  i += 1"
      ],
      "execution_count": 0,
      "outputs": [
        {
          "output_type": "stream",
          "text": [
            "1\n",
            "2\n",
            "3\n"
          ],
          "name": "stdout"
        }
      ]
    },
    {
      "cell_type": "code",
      "metadata": {
        "id": "XRs7uWQbh70O",
        "colab_type": "code",
        "outputId": "33a330fe-21dc-4ad7-b893-7c80d6e997cb",
        "colab": {
          "base_uri": "https://localhost:8080/",
          "height": 102
        }
      },
      "source": [
        "# With the break statement we can stop the loop even if the while condition is true\n",
        "\n",
        "i = 1\n",
        "while i < 10:\n",
        "  print(i)\n",
        "  if i == 5:\n",
        "    break\n",
        "  i += 1"
      ],
      "execution_count": 0,
      "outputs": [
        {
          "output_type": "stream",
          "text": [
            "1\n",
            "2\n",
            "3\n",
            "4\n",
            "5\n"
          ],
          "name": "stdout"
        }
      ]
    },
    {
      "cell_type": "code",
      "metadata": {
        "id": "0QEjkSq0iLw-",
        "colab_type": "code",
        "outputId": "9bb389ef-110c-45c9-e333-7dbe0a80bfa4",
        "colab": {
          "base_uri": "https://localhost:8080/",
          "height": 102
        }
      },
      "source": [
        "# With the continue statement we can stop the current iteration, and continue with the next\n",
        "\n",
        "i = 0\n",
        "while i < 6:\n",
        "  i += 1\n",
        "  if i == 3:\n",
        "    continue\n",
        "  print(i)"
      ],
      "execution_count": 0,
      "outputs": [
        {
          "output_type": "stream",
          "text": [
            "1\n",
            "2\n",
            "4\n",
            "5\n",
            "6\n"
          ],
          "name": "stdout"
        }
      ]
    },
    {
      "cell_type": "markdown",
      "metadata": {
        "id": "0iDsqOgtfpek",
        "colab_type": "text"
      },
      "source": [
        "## For Loop \n",
        "\n",
        "A for loop is used for iterating over a sequence (that is either a `list`, a `tuple`, a `dictionary`, a `set`, or a `string`).\n",
        "\n",
        "With the for loop we can execute a set of statements, once for each item in a list, tuple, set etc."
      ]
    },
    {
      "cell_type": "code",
      "metadata": {
        "id": "jwUIidDbfo4d",
        "colab_type": "code",
        "outputId": "5f9eb46f-a693-4c05-feff-5a102bef1293",
        "colab": {
          "base_uri": "https://localhost:8080/",
          "height": 119
        }
      },
      "source": [
        "cars = [\"bmw\", \"audi\", \"mercedes\", \"honda\", \"toyota\", \"kia\"]\n",
        "for x in cars:\n",
        "  print(x)"
      ],
      "execution_count": 0,
      "outputs": [
        {
          "output_type": "stream",
          "text": [
            "bmw\n",
            "audi\n",
            "mercedes\n",
            "honda\n",
            "toyota\n",
            "kia\n"
          ],
          "name": "stdout"
        }
      ]
    },
    {
      "cell_type": "code",
      "metadata": {
        "id": "jl3Ka38ygQcf",
        "colab_type": "code",
        "outputId": "ba9050fa-e2d7-45b8-9497-b42420325e86",
        "colab": {
          "base_uri": "https://localhost:8080/",
          "height": 153
        }
      },
      "source": [
        "# Looping through string\n",
        "\n",
        "for x in \"mercedes\":\n",
        "  print(x)"
      ],
      "execution_count": 0,
      "outputs": [
        {
          "output_type": "stream",
          "text": [
            "m\n",
            "e\n",
            "r\n",
            "c\n",
            "e\n",
            "d\n",
            "e\n",
            "s\n"
          ],
          "name": "stdout"
        }
      ]
    },
    {
      "cell_type": "code",
      "metadata": {
        "id": "_1b7GuaIgYXX",
        "colab_type": "code",
        "outputId": "cdb85ed7-ca05-4964-ca8a-07ea5dc75357",
        "colab": {
          "base_uri": "https://localhost:8080/",
          "height": 85
        }
      },
      "source": [
        "# Break Statement\n",
        "\n",
        "cars = [\"bmw\", \"audi\", \"mercedes\", \"honda\", \"toyota\", \"kia\"]\n",
        "for x in cars:\n",
        "  print(x)\n",
        "  if x == \"honda\":\n",
        "    break"
      ],
      "execution_count": 0,
      "outputs": [
        {
          "output_type": "stream",
          "text": [
            "bmw\n",
            "audi\n",
            "mercedes\n",
            "honda\n"
          ],
          "name": "stdout"
        }
      ]
    },
    {
      "cell_type": "code",
      "metadata": {
        "id": "Amoihx3ogmP3",
        "colab_type": "code",
        "outputId": "ee7fb5f0-a87d-4e18-9815-74c27ae05b2b",
        "colab": {
          "base_uri": "https://localhost:8080/",
          "height": 102
        }
      },
      "source": [
        "# Continue statment\n",
        "\n",
        "cars = [\"bmw\", \"audi\", \"mercedes\", \"honda\", \"toyota\", \"kia\"]\n",
        "for x in cars:\n",
        "  if x == \"mercedes\":\n",
        "    continue\n",
        "  print(x)"
      ],
      "execution_count": 0,
      "outputs": [
        {
          "output_type": "stream",
          "text": [
            "bmw\n",
            "audi\n",
            "honda\n",
            "toyota\n",
            "kia\n"
          ],
          "name": "stdout"
        }
      ]
    },
    {
      "cell_type": "code",
      "metadata": {
        "id": "JbfRgkukgwzo",
        "colab_type": "code",
        "outputId": "0814fd51-2b41-4778-f4db-9435116d354b",
        "colab": {
          "base_uri": "https://localhost:8080/",
          "height": 119
        }
      },
      "source": [
        "# Range function\n",
        "\n",
        "for x in range(6):\n",
        "  print(x)"
      ],
      "execution_count": 0,
      "outputs": [
        {
          "output_type": "stream",
          "text": [
            "0\n",
            "1\n",
            "2\n",
            "3\n",
            "4\n",
            "5\n"
          ],
          "name": "stdout"
        }
      ]
    },
    {
      "cell_type": "code",
      "metadata": {
        "id": "CJBt_OIihNqL",
        "colab_type": "code",
        "outputId": "b5f5af40-d1f6-410e-9347-73de4ee4e865",
        "colab": {
          "base_uri": "https://localhost:8080/",
          "height": 68
        }
      },
      "source": [
        "for x in range(3, 6):\n",
        "  print(x)"
      ],
      "execution_count": 0,
      "outputs": [
        {
          "output_type": "stream",
          "text": [
            "3\n",
            "4\n",
            "5\n"
          ],
          "name": "stdout"
        }
      ]
    },
    {
      "cell_type": "code",
      "metadata": {
        "id": "nN5ToslwhWuh",
        "colab_type": "code",
        "outputId": "21ce0e18-6315-4dd6-9182-d07fa1b8a89a",
        "colab": {
          "base_uri": "https://localhost:8080/",
          "height": 153
        }
      },
      "source": [
        "# Else in For Loop\n",
        "for x in range(7):\n",
        "  print(x)\n",
        "else:\n",
        "  print(\"Finally finished!\")"
      ],
      "execution_count": 0,
      "outputs": [
        {
          "output_type": "stream",
          "text": [
            "0\n",
            "1\n",
            "2\n",
            "3\n",
            "4\n",
            "5\n",
            "6\n",
            "Finally finished!\n"
          ],
          "name": "stdout"
        }
      ]
    },
    {
      "cell_type": "code",
      "metadata": {
        "id": "Xa6EwzGkhjCJ",
        "colab_type": "code",
        "outputId": "bda8590b-ede5-44ed-e62e-76042b0e6001",
        "colab": {
          "base_uri": "https://localhost:8080/",
          "height": 170
        }
      },
      "source": [
        "# Nested loop\n",
        "\n",
        "cars = [\"bmw\", \"audi\", \"mercedes\"]\n",
        "bikes = [\"yamaha\", \"kawasaki\", \"ducati\"]\n",
        "\n",
        "for x in cars:\n",
        "  for y in bikes:\n",
        "    print(x, y)"
      ],
      "execution_count": 0,
      "outputs": [
        {
          "output_type": "stream",
          "text": [
            "bmw yamaha\n",
            "bmw kawasaki\n",
            "bmw ducati\n",
            "audi yamaha\n",
            "audi kawasaki\n",
            "audi ducati\n",
            "mercedes yamaha\n",
            "mercedes kawasaki\n",
            "mercedes ducati\n"
          ],
          "name": "stdout"
        }
      ]
    },
    {
      "cell_type": "code",
      "metadata": {
        "id": "-j-hkau5iAlq",
        "colab_type": "code",
        "colab": {}
      },
      "source": [
        ""
      ],
      "execution_count": 0,
      "outputs": []
    }
  ]
}