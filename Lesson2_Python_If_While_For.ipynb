{
  "nbformat": 4,
  "nbformat_minor": 0,
  "metadata": {
    "colab": {
      "name": "Lesson2_Python_If_While_For.ipynb",
      "provenance": [],
      "collapsed_sections": [],
      "include_colab_link": true
    },
    "kernelspec": {
      "name": "python3",
      "display_name": "Python 3"
    }
  },
  "cells": [
    {
      "cell_type": "markdown",
      "metadata": {
        "id": "view-in-github",
        "colab_type": "text"
      },
      "source": [
        "<a href=\"https://colab.research.google.com/github/theclassofai/Intro_2_Colab_Python/blob/master/Lesson2_Python_If_While_For.ipynb\" target=\"_parent\"><img src=\"https://colab.research.google.com/assets/colab-badge.svg\" alt=\"Open In Colab\"/></a>"
      ]
    },
    {
      "cell_type": "markdown",
      "metadata": {
        "id": "uYozpk5sn5mw",
        "colab_type": "text"
      },
      "source": [
        "# Welcome to The Class of AI\n",
        "---\n",
        "\n",
        "\n",
        "\n",
        "\n",
        "\n"
      ]
    },
    {
      "cell_type": "markdown",
      "metadata": {
        "id": "AUalx1dRZ_v1",
        "colab_type": "text"
      },
      "source": [
        "## If Statements\n",
        "If statments are used to test for a particular conditions and respond appropriatly:"
      ]
    },
    {
      "cell_type": "markdown",
      "metadata": {
        "id": "WLI_QcFmcicw",
        "colab_type": "text"
      },
      "source": [
        " Conditional tests\n",
        "* equals                    : `x == 72`\n",
        "* not equal                 : `x != 72`\n",
        "* greater than              : `x > 72`\n",
        "* greater than or equal to  : `x >= 72`\n",
        "* less than                 : `x < 72`\n",
        "* less than or equal to     : `x <= 72`"
      ]
    },
    {
      "cell_type": "code",
      "metadata": {
        "id": "1Ptctc-LaBsd",
        "colab_type": "code",
        "outputId": "eebb74b3-6208-4383-a591-8704f2444c6d",
        "colab": {
          "base_uri": "https://localhost:8080/",
          "height": 34
        }
      },
      "source": [
        "# Example \n",
        "x = 92\n",
        "print(x<=72)"
      ],
      "execution_count": 0,
      "outputs": [
        {
          "output_type": "stream",
          "text": [
            "False\n"
          ],
          "name": "stdout"
        }
      ]
    },
    {
      "cell_type": "code",
      "metadata": {
        "id": "Eh6b8C2ueaAU",
        "colab_type": "code",
        "outputId": "6ac39803-aa02-4a08-8d38-1442795ad350",
        "colab": {
          "base_uri": "https://localhost:8080/",
          "height": 34
        }
      },
      "source": [
        "# A simple if test\n",
        "age = 15\n",
        "if age >= 17:\n",
        "  print(\"You can drive! \")\n",
        "else:\n",
        "  print(\"Sorry, you can't drive!\")"
      ],
      "execution_count": 0,
      "outputs": [
        {
          "output_type": "stream",
          "text": [
            "Sorry, you can't drive!\n"
          ],
          "name": "stdout"
        }
      ]
    },
    {
      "cell_type": "code",
      "metadata": {
        "id": "nNoUJ2Ymfky6",
        "colab_type": "code",
        "outputId": "1326494b-97b5-4278-dec3-049d06cf8947",
        "colab": {
          "base_uri": "https://localhost:8080/",
          "height": 34
        }
      },
      "source": [
        "# If else if\n",
        "age = 34\n",
        "\n",
        "if age >= 18:\n",
        "  print(\"You can watch movie\")\n",
        "elif age <=18 and age >=12:\n",
        "  print(\"You need to have some one with you above 18 to watch the movie\")\n",
        "else:\n",
        "  print(\"Sorry, you can't watch movie\")"
      ],
      "execution_count": 0,
      "outputs": [
        {
          "output_type": "stream",
          "text": [
            "You can watch movie\n"
          ],
          "name": "stdout"
        }
      ]
    },
    {
      "cell_type": "code",
      "metadata": {
        "id": "AlP-D8MOg-Yf",
        "colab_type": "code",
        "outputId": "14a9cc86-a9af-4c91-e75e-3ed86560adc0",
        "colab": {
          "base_uri": "https://localhost:8080/",
          "height": 51
        }
      },
      "source": [
        "# Use of user input\n",
        "age = int(input(\"What is your age in years, please?\"))\n",
        "\n",
        "if age >= 18:\n",
        "  print(\"You can watch movie\")\n",
        "elif age <=18 and age >=12:\n",
        "  print(\"You need to have some one with you above 18 to watch the movie\")\n",
        "else:\n",
        "  print(\"Sorry, you can't watch movie\")"
      ],
      "execution_count": 0,
      "outputs": [
        {
          "output_type": "stream",
          "text": [
            "What is your age in years, please?14\n",
            "You need to have some one with you above 18 to watch the movie\n"
          ],
          "name": "stdout"
        }
      ]
    },
    {
      "cell_type": "markdown",
      "metadata": {
        "id": "XXC31s_KhpLi",
        "colab_type": "text"
      },
      "source": [
        "## While loop\n",
        "\n",
        "With the while loop we can execute a set of statements as long as a condition is `true`"
      ]
    },
    {
      "cell_type": "code",
      "metadata": {
        "id": "pZU_e7mphwQ_",
        "colab_type": "code",
        "outputId": "e37a621e-a2c1-4e34-a9e3-5b7ce5d78b2f",
        "colab": {
          "base_uri": "https://localhost:8080/",
          "height": 85
        }
      },
      "source": [
        "i = 1\n",
        "while i <= 4:\n",
        "  print(i)\n",
        "  i += 1"
      ],
      "execution_count": 0,
      "outputs": [
        {
          "output_type": "stream",
          "text": [
            "1\n",
            "2\n",
            "3\n",
            "4\n"
          ],
          "name": "stdout"
        }
      ]
    },
    {
      "cell_type": "code",
      "metadata": {
        "id": "XRs7uWQbh70O",
        "colab_type": "code",
        "outputId": "88550287-b1d1-4ac1-885e-e053287b4a35",
        "colab": {
          "base_uri": "https://localhost:8080/",
          "height": 102
        }
      },
      "source": [
        "# With the break statement we can stop the loop even if the while condition is true\n",
        "\n",
        "i = 1\n",
        "while i < 10:\n",
        "  print(i)\n",
        "  if i == 5:\n",
        "    break\n",
        "  i += 1"
      ],
      "execution_count": 0,
      "outputs": [
        {
          "output_type": "stream",
          "text": [
            "1\n",
            "2\n",
            "3\n",
            "4\n",
            "5\n"
          ],
          "name": "stdout"
        }
      ]
    },
    {
      "cell_type": "code",
      "metadata": {
        "id": "0QEjkSq0iLw-",
        "colab_type": "code",
        "outputId": "0cd32ce0-c64b-4f50-af8b-8884fc65918c",
        "colab": {
          "base_uri": "https://localhost:8080/",
          "height": 102
        }
      },
      "source": [
        "# With the continue statement we can stop the current iteration, and continue with the next\n",
        "\n",
        "i = 0\n",
        "while i < 6:\n",
        "  i += 1\n",
        "  if i == 3:\n",
        "    continue\n",
        "  print(i)"
      ],
      "execution_count": 0,
      "outputs": [
        {
          "output_type": "stream",
          "text": [
            "1\n",
            "2\n",
            "4\n",
            "5\n",
            "6\n"
          ],
          "name": "stdout"
        }
      ]
    },
    {
      "cell_type": "markdown",
      "metadata": {
        "id": "0iDsqOgtfpek",
        "colab_type": "text"
      },
      "source": [
        "## For Loop \n",
        "\n",
        "A for loop is used for iterating over a sequence (that is either a `list`, a `tuple`, a `dictionary`, a `set`, or a `string`).\n",
        "\n",
        "With the for loop we can execute a set of statements, once for each item in a list, tuple, set etc."
      ]
    },
    {
      "cell_type": "code",
      "metadata": {
        "id": "jwUIidDbfo4d",
        "colab_type": "code",
        "outputId": "7d58c1aa-e873-4045-ee7d-69a6c8a708f0",
        "colab": {
          "base_uri": "https://localhost:8080/",
          "height": 119
        }
      },
      "source": [
        "cars = [\"bmw\", \"audi\", \"mercedes\", \"honda\", \"toyota\", \"kia\"]\n",
        "for x in cars:\n",
        "  print(x)"
      ],
      "execution_count": 0,
      "outputs": [
        {
          "output_type": "stream",
          "text": [
            "bmw\n",
            "audi\n",
            "mercedes\n",
            "honda\n",
            "toyota\n",
            "kia\n"
          ],
          "name": "stdout"
        }
      ]
    },
    {
      "cell_type": "code",
      "metadata": {
        "id": "jl3Ka38ygQcf",
        "colab_type": "code",
        "outputId": "84cfa7a1-03cd-49de-80d5-4517312b13d4",
        "colab": {
          "base_uri": "https://localhost:8080/",
          "height": 153
        }
      },
      "source": [
        "# Looping through string\n",
        "\n",
        "for x in \"mercedes\":\n",
        "  print(x)"
      ],
      "execution_count": 0,
      "outputs": [
        {
          "output_type": "stream",
          "text": [
            "m\n",
            "e\n",
            "r\n",
            "c\n",
            "e\n",
            "d\n",
            "e\n",
            "s\n"
          ],
          "name": "stdout"
        }
      ]
    },
    {
      "cell_type": "code",
      "metadata": {
        "id": "_1b7GuaIgYXX",
        "colab_type": "code",
        "outputId": "bb137413-dac7-4868-c0ae-103d15ebac0d",
        "colab": {
          "base_uri": "https://localhost:8080/",
          "height": 85
        }
      },
      "source": [
        "# Break Statement\n",
        "\n",
        "cars = [\"bmw\", \"audi\", \"mercedes\", \"honda\", \"toyota\", \"kia\"]\n",
        "for x in cars:\n",
        "  print(x)\n",
        "  if x == \"honda\":\n",
        "    break"
      ],
      "execution_count": 0,
      "outputs": [
        {
          "output_type": "stream",
          "text": [
            "bmw\n",
            "audi\n",
            "mercedes\n",
            "honda\n"
          ],
          "name": "stdout"
        }
      ]
    },
    {
      "cell_type": "code",
      "metadata": {
        "id": "Amoihx3ogmP3",
        "colab_type": "code",
        "outputId": "73b1a252-e0f7-47c5-c44c-e94c99e682be",
        "colab": {
          "base_uri": "https://localhost:8080/",
          "height": 102
        }
      },
      "source": [
        "# Continue statment\n",
        "\n",
        "cars = [\"bmw\", \"audi\", \"mercedes\", \"honda\", \"toyota\", \"kia\"]\n",
        "for x in cars:\n",
        "  if x == \"mercedes\":\n",
        "    continue\n",
        "  print(x)"
      ],
      "execution_count": 0,
      "outputs": [
        {
          "output_type": "stream",
          "text": [
            "bmw\n",
            "audi\n",
            "honda\n",
            "toyota\n",
            "kia\n"
          ],
          "name": "stdout"
        }
      ]
    },
    {
      "cell_type": "code",
      "metadata": {
        "id": "JbfRgkukgwzo",
        "colab_type": "code",
        "outputId": "18fb321b-4e16-4c07-8b7f-a0e155ae9b5a",
        "colab": {
          "base_uri": "https://localhost:8080/",
          "height": 119
        }
      },
      "source": [
        "# Range function\n",
        "for x in range(6):\n",
        "  print(x)"
      ],
      "execution_count": 0,
      "outputs": [
        {
          "output_type": "stream",
          "text": [
            "0\n",
            "1\n",
            "2\n",
            "3\n",
            "4\n",
            "5\n"
          ],
          "name": "stdout"
        }
      ]
    },
    {
      "cell_type": "code",
      "metadata": {
        "id": "CJBt_OIihNqL",
        "colab_type": "code",
        "outputId": "ef89532b-efd9-45c9-c4d3-0e3ee183bff8",
        "colab": {
          "base_uri": "https://localhost:8080/",
          "height": 68
        }
      },
      "source": [
        "for x in range(3, 6):\n",
        "  print(x)"
      ],
      "execution_count": 0,
      "outputs": [
        {
          "output_type": "stream",
          "text": [
            "3\n",
            "4\n",
            "5\n"
          ],
          "name": "stdout"
        }
      ]
    },
    {
      "cell_type": "code",
      "metadata": {
        "id": "nN5ToslwhWuh",
        "colab_type": "code",
        "outputId": "9fea9e2e-83ca-4867-cb1c-e594a492dd01",
        "colab": {
          "base_uri": "https://localhost:8080/",
          "height": 153
        }
      },
      "source": [
        "# Else in For Loop\n",
        "for x in range(7):\n",
        "  print(x)\n",
        "else:\n",
        "  print(\"Finally finished!\")"
      ],
      "execution_count": 0,
      "outputs": [
        {
          "output_type": "stream",
          "text": [
            "0\n",
            "1\n",
            "2\n",
            "3\n",
            "4\n",
            "5\n",
            "6\n",
            "Finally finished!\n"
          ],
          "name": "stdout"
        }
      ]
    },
    {
      "cell_type": "code",
      "metadata": {
        "id": "Xa6EwzGkhjCJ",
        "colab_type": "code",
        "outputId": "4fe85669-99df-4ef3-c457-3d86422e2bd3",
        "colab": {
          "base_uri": "https://localhost:8080/",
          "height": 170
        }
      },
      "source": [
        "# Nested loop\n",
        "\n",
        "cars = [\"bmw\", \"audi\", \"mercedes\"]\n",
        "bikes = [\"yamaha\", \"kawasaki\", \"ducati\"]\n",
        "\n",
        "for x in cars:\n",
        "  for y in bikes:\n",
        "    print(x, y)"
      ],
      "execution_count": 0,
      "outputs": [
        {
          "output_type": "stream",
          "text": [
            "bmw yamaha\n",
            "bmw kawasaki\n",
            "bmw ducati\n",
            "audi yamaha\n",
            "audi kawasaki\n",
            "audi ducati\n",
            "mercedes yamaha\n",
            "mercedes kawasaki\n",
            "mercedes ducati\n"
          ],
          "name": "stdout"
        }
      ]
    },
    {
      "cell_type": "code",
      "metadata": {
        "id": "-j-hkau5iAlq",
        "colab_type": "code",
        "colab": {}
      },
      "source": [
        ""
      ],
      "execution_count": 0,
      "outputs": []
    }
  ]
}