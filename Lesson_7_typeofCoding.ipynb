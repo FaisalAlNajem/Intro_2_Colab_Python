{
  "nbformat": 4,
  "nbformat_minor": 0,
  "metadata": {
    "colab": {
      "name": "Lesson_7_typeofCoding.ipynb",
      "provenance": [],
      "authorship_tag": "ABX9TyORqgt6CMXw/gTf8R+nC9cd",
      "include_colab_link": true
    },
    "kernelspec": {
      "name": "python3",
      "display_name": "Python 3"
    }
  },
  "cells": [
    {
      "cell_type": "markdown",
      "metadata": {
        "id": "view-in-github",
        "colab_type": "text"
      },
      "source": [
        "<a href=\"https://colab.research.google.com/github/theclassofai/Intro_2_Colab_Python/blob/master/Lesson_7_typeofCoding.ipynb\" target=\"_parent\"><img src=\"https://colab.research.google.com/assets/colab-badge.svg\" alt=\"Open In Colab\"/></a>"
      ]
    },
    {
      "cell_type": "markdown",
      "metadata": {
        "id": "O98gQPT_uwK_",
        "colab_type": "text"
      },
      "source": [
        "### Difference between Functional, Robust, Elegant Efficient Coding"
      ]
    },
    {
      "cell_type": "code",
      "metadata": {
        "id": "tivjbUz8uvWn",
        "colab_type": "code",
        "colab": {}
      },
      "source": [
        "# Functional\n",
        "\n",
        "def areaofsquare(side):\n",
        "  sqrdnumber = side * side\n",
        "  return sqrdnumber"
      ],
      "execution_count": 0,
      "outputs": []
    },
    {
      "cell_type": "code",
      "metadata": {
        "id": "Qih-0WLzvg-i",
        "colab_type": "code",
        "colab": {
          "base_uri": "https://localhost:8080/",
          "height": 34
        },
        "outputId": "208be042-0816-45e8-8dd2-5670ccb6a663"
      },
      "source": [
        "areaofsquare(4)"
      ],
      "execution_count": 2,
      "outputs": [
        {
          "output_type": "execute_result",
          "data": {
            "text/plain": [
              "16"
            ]
          },
          "metadata": {
            "tags": []
          },
          "execution_count": 2
        }
      ]
    },
    {
      "cell_type": "code",
      "metadata": {
        "id": "pyTM1ipAwCM8",
        "colab_type": "code",
        "colab": {
          "base_uri": "https://localhost:8080/",
          "height": 34
        },
        "outputId": "080d69f7-a245-4764-c072-5afb65ac4839"
      },
      "source": [
        "# Robust\n",
        "import numbers\n",
        "\n",
        "def areaofsquare(side):\n",
        "  if isinstance(side, numbers.Number):\n",
        "    sqrdnumber = side * side\n",
        "    return sqrdnumber\n",
        "  else:\n",
        "    return False\n",
        "\n",
        "\n",
        "areaofsquare('Hello')"
      ],
      "execution_count": 7,
      "outputs": [
        {
          "output_type": "execute_result",
          "data": {
            "text/plain": [
              "False"
            ]
          },
          "metadata": {
            "tags": []
          },
          "execution_count": 7
        }
      ]
    },
    {
      "cell_type": "code",
      "metadata": {
        "id": "mGxS_EXNw59e",
        "colab_type": "code",
        "colab": {
          "base_uri": "https://localhost:8080/",
          "height": 34
        },
        "outputId": "b1e191e7-1311-4419-cfd9-3223e12dc73e"
      },
      "source": [
        "# Elegant: Here we have removed the extra variable 'sqrdnumber'\n",
        "import numbers\n",
        "\n",
        "def areaofsquare(side):\n",
        "  if isinstance(side, numbers.Number):\n",
        "    return side * side\n",
        "  else:\n",
        "    return False\n",
        "\n",
        "\n",
        "areaofsquare('Hi')"
      ],
      "execution_count": 9,
      "outputs": [
        {
          "output_type": "execute_result",
          "data": {
            "text/plain": [
              "16"
            ]
          },
          "metadata": {
            "tags": []
          },
          "execution_count": 9
        }
      ]
    },
    {
      "cell_type": "markdown",
      "metadata": {
        "id": "ADNNWAbiyp8Q",
        "colab_type": "text"
      },
      "source": [
        "Efficient Coding:\n",
        "\n",
        "Here are a few things to keep in mind:\n",
        "\n",
        "**Solve first, optimize later**: When you first approach a programming problem your first goal should be to solve it and only then go for optimization. I have seen a lot of programmers who try to optimize and solve the same time and struggle with it. Once you gain enough experience with optimization you can always go for optimization first.\n",
        "\n",
        "**Don’t just write code**: Writing code is just a part of the equation, what makes real difference to your skills is that you must read a lot of code from other people who are better at optimization than you are. If you get a chance then always look at larger code bases.\n",
        "\n",
        "**Optimize for time and space**: Your goal as a programmer should be to optimize for time and space both at the same time. Always try to maintain a balance between the two.\n",
        "\n",
        "**Understand and follow the PEPs**: I cant stress this enough, you should always follow a coding standard like PEP for Python, that helps a lot with optimization.\n",
        "\n",
        "**Read specific books on code optimization**: The book “Effective Python 1: 59 Specific Ways to Write Better Python” by Brett Saltkin is a go to guide if you want to get better at writing Python code.\n",
        "\n",
        "[Read More](https://www.quora.com/How-can-I-write-fast-and-efficient-Python-code)"
      ]
    }
  ]
}