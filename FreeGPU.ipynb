{
  "nbformat": 4,
  "nbformat_minor": 0,
  "metadata": {
    "colab": {
      "name": "FreeGPU .ipynb",
      "provenance": [],
      "collapsed_sections": [],
      "toc_visible": true,
      "authorship_tag": "ABX9TyNKawQjGx7aPRAYl6BPxdEP",
      "include_colab_link": true
    },
    "kernelspec": {
      "name": "python3",
      "display_name": "Python 3"
    },
    "accelerator": "GPU"
  },
  "cells": [
    {
      "cell_type": "markdown",
      "metadata": {
        "id": "view-in-github",
        "colab_type": "text"
      },
      "source": [
        "<a href=\"https://colab.research.google.com/github/theclassofai/Intro_2_Colab_Python/blob/master/FreeGPU.ipynb\" target=\"_parent\"><img src=\"https://colab.research.google.com/assets/colab-badge.svg\" alt=\"Open In Colab\"/></a>"
      ]
    },
    {
      "cell_type": "markdown",
      "metadata": {
        "id": "SI-RSDdnuliK"
      },
      "source": [
        "### To enable GPU in your notebook\n",
        "Select the following menu options: `Runtime / Change runtime type`\n",
        "\n",
        "Select GPU and your notebook would use the free GPU provided in the cloud during\n",
        "processing."
      ]
    },
    {
      "cell_type": "markdown",
      "metadata": {
        "id": "YX7B1x7CvOEo"
      },
      "source": [
        "### Testing GPU\n",
        "\n",
        "You can easily check if the GPU is enabled by executing the following code:"
      ]
    },
    {
      "cell_type": "code",
      "metadata": {
        "id": "2XNIEQaFsgNA",
        "outputId": "937302de-2a8f-4890-e6b6-23b700461075",
        "colab": {
          "base_uri": "https://localhost:8080/",
          "height": 37
        }
      },
      "source": [
        "import tensorflow as tf\n",
        "tf.test.gpu_device_name()"
      ],
      "execution_count": 9,
      "outputs": [
        {
          "output_type": "execute_result",
          "data": {
            "application/vnd.google.colaboratory.intrinsic+json": {
              "type": "string"
            },
            "text/plain": [
              "''"
            ]
          },
          "metadata": {
            "tags": []
          },
          "execution_count": 9
        }
      ]
    },
    {
      "cell_type": "markdown",
      "metadata": {
        "id": "IhF9R1QOvXj8"
      },
      "source": [
        "Now enable the GPU"
      ]
    },
    {
      "cell_type": "code",
      "metadata": {
        "id": "rU_uwVfEvf55",
        "outputId": "91ab7a21-b626-456a-9688-38c63f885e42",
        "colab": {
          "base_uri": "https://localhost:8080/",
          "height": 37
        }
      },
      "source": [
        "import tensorflow as tf\n",
        "tf.test.gpu_device_name()"
      ],
      "execution_count": 1,
      "outputs": [
        {
          "output_type": "execute_result",
          "data": {
            "application/vnd.google.colaboratory.intrinsic+json": {
              "type": "string"
            },
            "text/plain": [
              "'/device:GPU:0'"
            ]
          },
          "metadata": {
            "tags": []
          },
          "execution_count": 1
        }
      ]
    },
    {
      "cell_type": "markdown",
      "metadata": {
        "id": "XVhrLRwbvra_"
      },
      "source": [
        "### Listing Devices\n",
        "If you are curious to know the devices used during the execution of your notebook in the cloud, try the following code:"
      ]
    },
    {
      "cell_type": "code",
      "metadata": {
        "id": "KQ5YLa7AvxDO",
        "outputId": "b70a172b-74d3-4f45-e9ac-1438af3621dd",
        "colab": {
          "base_uri": "https://localhost:8080/",
          "height": 476
        }
      },
      "source": [
        "from tensorflow.python.client import device_lib\n",
        "device_lib.list_local_devices()"
      ],
      "execution_count": 2,
      "outputs": [
        {
          "output_type": "execute_result",
          "data": {
            "text/plain": [
              "[name: \"/device:CPU:0\"\n",
              " device_type: \"CPU\"\n",
              " memory_limit: 268435456\n",
              " locality {\n",
              " }\n",
              " incarnation: 16861659244760062827, name: \"/device:XLA_CPU:0\"\n",
              " device_type: \"XLA_CPU\"\n",
              " memory_limit: 17179869184\n",
              " locality {\n",
              " }\n",
              " incarnation: 4490672793364012439\n",
              " physical_device_desc: \"device: XLA_CPU device\", name: \"/device:XLA_GPU:0\"\n",
              " device_type: \"XLA_GPU\"\n",
              " memory_limit: 17179869184\n",
              " locality {\n",
              " }\n",
              " incarnation: 3425089696637606058\n",
              " physical_device_desc: \"device: XLA_GPU device\", name: \"/device:GPU:0\"\n",
              " device_type: \"GPU\"\n",
              " memory_limit: 15695549568\n",
              " locality {\n",
              "   bus_id: 1\n",
              "   links {\n",
              "   }\n",
              " }\n",
              " incarnation: 1496147573650958884\n",
              " physical_device_desc: \"device: 0, name: Tesla P100-PCIE-16GB, pci bus id: 0000:00:04.0, compute capability: 6.0\"]"
            ]
          },
          "metadata": {
            "tags": []
          },
          "execution_count": 2
        }
      ]
    },
    {
      "cell_type": "markdown",
      "metadata": {
        "id": "eJtGKZY3wExH"
      },
      "source": [
        "### Checking RAM\n",
        "To see the memory resources available for your process, type the following command:\n"
      ]
    },
    {
      "cell_type": "code",
      "metadata": {
        "id": "zAz2bWaawG7p",
        "outputId": "26413008-3d03-4933-c8b0-98692f958328",
        "colab": {
          "base_uri": "https://localhost:8080/",
          "height": 816
        }
      },
      "source": [
        "!cat /proc/meminfo"
      ],
      "execution_count": 3,
      "outputs": [
        {
          "output_type": "stream",
          "text": [
            "MemTotal:       13333536 kB\n",
            "MemFree:         9581652 kB\n",
            "MemAvailable:   11981736 kB\n",
            "Buffers:           78776 kB\n",
            "Cached:          2348916 kB\n",
            "SwapCached:            0 kB\n",
            "Active:          1094412 kB\n",
            "Inactive:        2248152 kB\n",
            "Active(anon):     755512 kB\n",
            "Inactive(anon):     8544 kB\n",
            "Active(file):     338900 kB\n",
            "Inactive(file):  2239608 kB\n",
            "Unevictable:           0 kB\n",
            "Mlocked:               0 kB\n",
            "SwapTotal:             0 kB\n",
            "SwapFree:              0 kB\n",
            "Dirty:               240 kB\n",
            "Writeback:             0 kB\n",
            "AnonPages:        914824 kB\n",
            "Mapped:           551452 kB\n",
            "Shmem:              9164 kB\n",
            "Slab:             172140 kB\n",
            "SReclaimable:     125012 kB\n",
            "SUnreclaim:        47128 kB\n",
            "KernelStack:        3888 kB\n",
            "PageTables:         7836 kB\n",
            "NFS_Unstable:          0 kB\n",
            "Bounce:                0 kB\n",
            "WritebackTmp:          0 kB\n",
            "CommitLimit:     6666768 kB\n",
            "Committed_AS:    3170264 kB\n",
            "VmallocTotal:   34359738367 kB\n",
            "VmallocUsed:           0 kB\n",
            "VmallocChunk:          0 kB\n",
            "Percpu:              952 kB\n",
            "AnonHugePages:         0 kB\n",
            "ShmemHugePages:        0 kB\n",
            "ShmemPmdMapped:        0 kB\n",
            "HugePages_Total:       0\n",
            "HugePages_Free:        0\n",
            "HugePages_Rsvd:        0\n",
            "HugePages_Surp:        0\n",
            "Hugepagesize:       2048 kB\n",
            "Hugetlb:               0 kB\n",
            "DirectMap4k:      206012 kB\n",
            "DirectMap2M:     5036032 kB\n",
            "DirectMap1G:    10485760 kB\n"
          ],
          "name": "stdout"
        }
      ]
    }
  ]
}