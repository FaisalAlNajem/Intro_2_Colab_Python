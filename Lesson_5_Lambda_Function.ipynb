{
  "nbformat": 4,
  "nbformat_minor": 0,
  "metadata": {
    "colab": {
      "name": "Lesson_5_Lambda_Function.ipynb",
      "provenance": [],
      "collapsed_sections": [],
      "include_colab_link": true
    },
    "kernelspec": {
      "name": "python3",
      "display_name": "Python 3"
    }
  },
  "cells": [
    {
      "cell_type": "markdown",
      "metadata": {
        "id": "view-in-github",
        "colab_type": "text"
      },
      "source": [
        "<a href=\"https://colab.research.google.com/github/theclassofai/Intro_2_Colab_Python/blob/master/Lesson_5_Lambda_Function.ipynb\" target=\"_parent\"><img src=\"https://colab.research.google.com/assets/colab-badge.svg\" alt=\"Open In Colab\"/></a>"
      ]
    },
    {
      "cell_type": "markdown",
      "metadata": {
        "id": "drLeDlIHr9aN",
        "colab_type": "text"
      },
      "source": [
        "# Lambda\n",
        "\n",
        "A lambda is a small anonymous function that take number of arguments but can only have one expression\n",
        "\n",
        "`lambda arguments: expression`"
      ]
    },
    {
      "cell_type": "code",
      "metadata": {
        "id": "-AREuFCzrznP",
        "colab_type": "code",
        "outputId": "d213d7af-273e-4265-d953-d7a53caa8351",
        "colab": {
          "base_uri": "https://localhost:8080/",
          "height": 34
        }
      },
      "source": [
        "# Syntax\n",
        "# lambda arguments: expression\n",
        "\n",
        "# Lambda function multiply the number 10 with the argument passes and print the result:\n",
        "x = lambda n: n * 10\n",
        "print(x(5))"
      ],
      "execution_count": 1,
      "outputs": [
        {
          "output_type": "stream",
          "text": [
            "50\n"
          ],
          "name": "stdout"
        }
      ]
    },
    {
      "cell_type": "markdown",
      "metadata": {
        "id": "EOreTvkvvAKn",
        "colab_type": "text"
      },
      "source": [
        "Lambda can take any number of arguments"
      ]
    },
    {
      "cell_type": "code",
      "metadata": {
        "id": "Cmx23Ta4uawm",
        "colab_type": "code",
        "outputId": "6dbd6b9d-c077-4e4a-e10a-022d8322f1f6",
        "colab": {
          "base_uri": "https://localhost:8080/",
          "height": 34
        }
      },
      "source": [
        "# lamda function for calculating power\n",
        "x = lambda m, n : m**n \n",
        "print(x(9,2))"
      ],
      "execution_count": 3,
      "outputs": [
        {
          "output_type": "stream",
          "text": [
            "81\n"
          ],
          "name": "stdout"
        }
      ]
    },
    {
      "cell_type": "code",
      "metadata": {
        "id": "AviFpWs37_1j",
        "colab_type": "code",
        "outputId": "eeb43b4a-7004-4edb-db3c-b39589cd4c1f",
        "colab": {
          "base_uri": "https://localhost:8080/",
          "height": 34
        }
      },
      "source": [
        "# lamda function for calculating Simple Interest\n",
        "x = lambda p, r, t : p*r*t\n",
        "print(x(1000, 3.875, 5))"
      ],
      "execution_count": 4,
      "outputs": [
        {
          "output_type": "stream",
          "text": [
            "19375.0\n"
          ],
          "name": "stdout"
        }
      ]
    },
    {
      "cell_type": "markdown",
      "metadata": {
        "id": "Dpw7IUYW9lSX",
        "colab_type": "text"
      },
      "source": [
        "### Why to use Lambda functions?\n",
        "\n",
        "The power of lamda is better shown when you use them as an anonymous function inside another function\n"
      ]
    },
    {
      "cell_type": "code",
      "metadata": {
        "id": "N16POtBq9pEU",
        "colab_type": "code",
        "outputId": "fc4cdb9b-a576-4f27-c9fa-2f4daae92af3",
        "colab": {
          "base_uri": "https://localhost:8080/",
          "height": 34
        }
      },
      "source": [
        "# Example:\n",
        "\n",
        "def area(r):\n",
        "  return lambda pi : pi * (r**2)\n",
        "\n",
        "circle_area=area(2)\n",
        "print(circle_area(3.14))\n"
      ],
      "execution_count": 5,
      "outputs": [
        {
          "output_type": "stream",
          "text": [
            "12.56\n"
          ],
          "name": "stdout"
        }
      ]
    },
    {
      "cell_type": "code",
      "metadata": {
        "id": "aPZ6v1kh1PpA",
        "colab_type": "code",
        "colab": {
          "base_uri": "https://localhost:8080/",
          "height": 34
        },
        "outputId": "8ff2c226-f488-48ad-930a-e9b04c2fe283"
      },
      "source": [
        "# Example:\n",
        "\n",
        "def area(r, pi):\n",
        "  return lambda r, pi : pi * (r**2)\n",
        "\n",
        "circle_area=area(2, 3.14)\n",
        "print(circle_area(2, 3.14))\n"
      ],
      "execution_count": 6,
      "outputs": [
        {
          "output_type": "stream",
          "text": [
            "12.56\n"
          ],
          "name": "stdout"
        }
      ]
    }
  ]
}