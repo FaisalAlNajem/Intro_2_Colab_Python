{
  "nbformat": 4,
  "nbformat_minor": 0,
  "metadata": {
    "colab": {
      "name": "Lesson_5_Lambda_Function.ipynb",
      "provenance": [],
      "collapsed_sections": [],
      "include_colab_link": true
    },
    "kernelspec": {
      "name": "python3",
      "display_name": "Python 3"
    }
  },
  "cells": [
    {
      "cell_type": "markdown",
      "metadata": {
        "id": "view-in-github",
        "colab_type": "text"
      },
      "source": [
        "<a href=\"https://colab.research.google.com/github/theclassofai/Intro_2_Colab_Python/blob/master/Lesson_5_Lambda_Function.ipynb\" target=\"_parent\"><img src=\"https://colab.research.google.com/assets/colab-badge.svg\" alt=\"Open In Colab\"/></a>"
      ]
    },
    {
      "cell_type": "markdown",
      "metadata": {
        "id": "drLeDlIHr9aN",
        "colab_type": "text"
      },
      "source": [
        "# Lambda\n",
        "\n",
        "A lambda is a small anonymous function that take number of arguments but can only have one expression\n",
        "\n",
        "`lambda arguments: expression`"
      ]
    },
    {
      "cell_type": "code",
      "metadata": {
        "id": "-AREuFCzrznP",
        "colab_type": "code",
        "outputId": "a16c827d-5fe8-455c-8a0e-65cb31c02e31",
        "colab": {
          "base_uri": "https://localhost:8080/",
          "height": 34
        }
      },
      "source": [
        "# Syntax\n",
        "# lambda arguments: expression\n",
        "\n",
        "# Lambda function multiply the number 10 with the argument passes and print the result:\n",
        "x = lambda n: n * 10\n",
        "print(x(5))"
      ],
      "execution_count": 0,
      "outputs": [
        {
          "output_type": "stream",
          "text": [
            "50\n"
          ],
          "name": "stdout"
        }
      ]
    },
    {
      "cell_type": "markdown",
      "metadata": {
        "id": "EOreTvkvvAKn",
        "colab_type": "text"
      },
      "source": [
        "Lambda can take any number of arguments"
      ]
    },
    {
      "cell_type": "code",
      "metadata": {
        "id": "Cmx23Ta4uawm",
        "colab_type": "code",
        "outputId": "add3651c-7751-4d1a-dfb5-97ace3888606",
        "colab": {
          "base_uri": "https://localhost:8080/",
          "height": 34
        }
      },
      "source": [
        "# lamda function for calculating power\n",
        "x = lambda m, n : m**n \n",
        "print(x(5,2))"
      ],
      "execution_count": 0,
      "outputs": [
        {
          "output_type": "stream",
          "text": [
            "25\n"
          ],
          "name": "stdout"
        }
      ]
    },
    {
      "cell_type": "code",
      "metadata": {
        "id": "AviFpWs37_1j",
        "colab_type": "code",
        "outputId": "1a062b86-98f1-43cf-c15e-889715511609",
        "colab": {
          "base_uri": "https://localhost:8080/",
          "height": 34
        }
      },
      "source": [
        "# lamda function for calculating Simple Interest\n",
        "x = lambda p, r, t : p*r*t\n",
        "print(x(1000, 3.875, 5))"
      ],
      "execution_count": 0,
      "outputs": [
        {
          "output_type": "stream",
          "text": [
            "19375.0\n"
          ],
          "name": "stdout"
        }
      ]
    },
    {
      "cell_type": "markdown",
      "metadata": {
        "id": "Dpw7IUYW9lSX",
        "colab_type": "text"
      },
      "source": [
        "### Why to use Lambda functions?\n",
        "\n",
        "The power of lamda is better shown when you use them as an anonymous function inside another function\n"
      ]
    },
    {
      "cell_type": "code",
      "metadata": {
        "id": "N16POtBq9pEU",
        "colab_type": "code",
        "outputId": "1267da23-0c97-4c02-98ea-568aef1c34ce",
        "colab": {
          "base_uri": "https://localhost:8080/",
          "height": 34
        }
      },
      "source": [
        "# Example:\n",
        "\n",
        "def area(r):\n",
        "  return lambda pi : pi * (r**2)\n",
        "\n",
        "circle_area=area(2)\n",
        "print(circle_area(3.14))\n"
      ],
      "execution_count": 7,
      "outputs": [
        {
          "output_type": "stream",
          "text": [
            "12.56\n"
          ],
          "name": "stdout"
        }
      ]
    },
    {
      "cell_type": "code",
      "metadata": {
        "id": "aPZ6v1kh1PpA",
        "colab_type": "code",
        "colab": {
          "base_uri": "https://localhost:8080/",
          "height": 34
        },
        "outputId": "8e504d8f-a267-4cc5-bd74-535ab4fce16e"
      },
      "source": [
        "# Example:\n",
        "\n",
        "def area(r, pi):\n",
        "  return lambda r, pi : pi * (r**2)\n",
        "\n",
        "circle_area=area(2, 3.14)\n",
        "print(circle_area(2, 3.14))\n"
      ],
      "execution_count": 13,
      "outputs": [
        {
          "output_type": "stream",
          "text": [
            "12.56\n"
          ],
          "name": "stdout"
        }
      ]
    }
  ]
}