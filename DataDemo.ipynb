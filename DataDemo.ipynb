{
  "nbformat": 4,
  "nbformat_minor": 0,
  "metadata": {
    "colab": {
      "name": "DataDemo.ipynb",
      "provenance": [],
      "collapsed_sections": [],
      "toc_visible": true,
      "include_colab_link": true
    },
    "kernelspec": {
      "name": "python3",
      "display_name": "Python 3"
    }
  },
  "cells": [
    {
      "cell_type": "markdown",
      "metadata": {
        "id": "view-in-github",
        "colab_type": "text"
      },
      "source": [
        "<a href=\"https://colab.research.google.com/github/theclassofai/Intro_2_Colab_Python/blob/master/DataDemo.ipynb\" target=\"_parent\"><img src=\"https://colab.research.google.com/assets/colab-badge.svg\" alt=\"Open In Colab\"/></a>"
      ]
    },
    {
      "cell_type": "markdown",
      "metadata": {
        "id": "up50YRCMI6yb",
        "colab_type": "text"
      },
      "source": [
        "## First Way of loading data: Manually locate the file\n",
        "\n",
        "1. Upload data manually or from code in cell 2\n",
        "2. Unzip the zip file and extract all files in it"
      ]
    },
    {
      "cell_type": "markdown",
      "metadata": {
        "id": "ZfjbzhxVlBFJ",
        "colab_type": "text"
      },
      "source": [
        "Download data from [Singapore-Airbnb](https://www.kaggle.com/jojoker/singapore-airbnb/data). You need a Kaggle account to donwload the data. Do a quick registration if you don't have kaggle account. "
      ]
    },
    {
      "cell_type": "code",
      "metadata": {
        "id": "f1wjvM1qxCrF",
        "colab_type": "code",
        "outputId": "cf459ccc-95cf-43f7-fb25-fb64ee5b12e1",
        "colab": {
          "resources": {
            "http://localhost:8080/nbextensions/google.colab/files.js": {
              "data": "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",
              "ok": true,
              "headers": [
                [
                  "content-type",
                  "application/javascript"
                ]
              ],
              "status": 200,
              "status_text": ""
            }
          },
          "base_uri": "https://localhost:8080/",
          "height": 71
        }
      },
      "source": [
        "from google.colab import files\n",
        "uploaded = files.upload()"
      ],
      "execution_count": 0,
      "outputs": [
        {
          "output_type": "display_data",
          "data": {
            "text/html": [
              "\n",
              "     <input type=\"file\" id=\"files-10633a6d-08f1-432e-9300-c31c1511c445\" name=\"files[]\" multiple disabled />\n",
              "     <output id=\"result-10633a6d-08f1-432e-9300-c31c1511c445\">\n",
              "      Upload widget is only available when the cell has been executed in the\n",
              "      current browser session. Please rerun this cell to enable.\n",
              "      </output>\n",
              "      <script src=\"/nbextensions/google.colab/files.js\"></script> "
            ],
            "text/plain": [
              "<IPython.core.display.HTML object>"
            ]
          },
          "metadata": {
            "tags": []
          }
        },
        {
          "output_type": "stream",
          "text": [
            "Saving singapore-airbnb.zip to singapore-airbnb.zip\n"
          ],
          "name": "stdout"
        }
      ]
    },
    {
      "cell_type": "code",
      "metadata": {
        "id": "X2W68RNCJ7U8",
        "colab_type": "code",
        "outputId": "6a07f135-a2c5-4bc8-81d3-f2b6facc6994",
        "colab": {
          "base_uri": "https://localhost:8080/",
          "height": 34
        }
      },
      "source": [
        "# Unzip Data \n",
        "\n",
        "from zipfile import ZipFile\n",
        "\n",
        "file_name = \"singapore-airbnb.zip\"\n",
        "with ZipFile(file_name, 'r') as zip:\n",
        "  zip.extractall()\n",
        "  print('done')"
      ],
      "execution_count": 0,
      "outputs": [
        {
          "output_type": "stream",
          "text": [
            "done\n"
          ],
          "name": "stdout"
        }
      ]
    },
    {
      "cell_type": "code",
      "metadata": {
        "id": "gOhx8VzzKz4v",
        "colab_type": "code",
        "outputId": "854cfd73-4937-4d23-bbf9-28c728b05b89",
        "colab": {
          "base_uri": "https://localhost:8080/",
          "height": 377
        }
      },
      "source": [
        "# Read CSV file using pandas\n",
        "\n",
        "import pandas as pd\n",
        "df=pd.read_csv('listings.csv')\n",
        "df.head()"
      ],
      "execution_count": 0,
      "outputs": [
        {
          "output_type": "execute_result",
          "data": {
            "text/html": [
              "<div>\n",
              "<style scoped>\n",
              "    .dataframe tbody tr th:only-of-type {\n",
              "        vertical-align: middle;\n",
              "    }\n",
              "\n",
              "    .dataframe tbody tr th {\n",
              "        vertical-align: top;\n",
              "    }\n",
              "\n",
              "    .dataframe thead th {\n",
              "        text-align: right;\n",
              "    }\n",
              "</style>\n",
              "<table border=\"1\" class=\"dataframe\">\n",
              "  <thead>\n",
              "    <tr style=\"text-align: right;\">\n",
              "      <th></th>\n",
              "      <th>id</th>\n",
              "      <th>name</th>\n",
              "      <th>host_id</th>\n",
              "      <th>host_name</th>\n",
              "      <th>neighbourhood_group</th>\n",
              "      <th>neighbourhood</th>\n",
              "      <th>latitude</th>\n",
              "      <th>longitude</th>\n",
              "      <th>room_type</th>\n",
              "      <th>price</th>\n",
              "      <th>minimum_nights</th>\n",
              "      <th>number_of_reviews</th>\n",
              "      <th>last_review</th>\n",
              "      <th>reviews_per_month</th>\n",
              "      <th>calculated_host_listings_count</th>\n",
              "      <th>availability_365</th>\n",
              "    </tr>\n",
              "  </thead>\n",
              "  <tbody>\n",
              "    <tr>\n",
              "      <th>0</th>\n",
              "      <td>49091</td>\n",
              "      <td>COZICOMFORT LONG TERM STAY ROOM 2</td>\n",
              "      <td>266763</td>\n",
              "      <td>Francesca</td>\n",
              "      <td>North Region</td>\n",
              "      <td>Woodlands</td>\n",
              "      <td>1.44255</td>\n",
              "      <td>103.79580</td>\n",
              "      <td>Private room</td>\n",
              "      <td>83</td>\n",
              "      <td>180</td>\n",
              "      <td>1</td>\n",
              "      <td>2013-10-21</td>\n",
              "      <td>0.01</td>\n",
              "      <td>2</td>\n",
              "      <td>365</td>\n",
              "    </tr>\n",
              "    <tr>\n",
              "      <th>1</th>\n",
              "      <td>50646</td>\n",
              "      <td>Pleasant Room along Bukit Timah</td>\n",
              "      <td>227796</td>\n",
              "      <td>Sujatha</td>\n",
              "      <td>Central Region</td>\n",
              "      <td>Bukit Timah</td>\n",
              "      <td>1.33235</td>\n",
              "      <td>103.78521</td>\n",
              "      <td>Private room</td>\n",
              "      <td>81</td>\n",
              "      <td>90</td>\n",
              "      <td>18</td>\n",
              "      <td>2014-12-26</td>\n",
              "      <td>0.28</td>\n",
              "      <td>1</td>\n",
              "      <td>365</td>\n",
              "    </tr>\n",
              "    <tr>\n",
              "      <th>2</th>\n",
              "      <td>56334</td>\n",
              "      <td>COZICOMFORT</td>\n",
              "      <td>266763</td>\n",
              "      <td>Francesca</td>\n",
              "      <td>North Region</td>\n",
              "      <td>Woodlands</td>\n",
              "      <td>1.44246</td>\n",
              "      <td>103.79667</td>\n",
              "      <td>Private room</td>\n",
              "      <td>69</td>\n",
              "      <td>6</td>\n",
              "      <td>20</td>\n",
              "      <td>2015-10-01</td>\n",
              "      <td>0.20</td>\n",
              "      <td>2</td>\n",
              "      <td>365</td>\n",
              "    </tr>\n",
              "    <tr>\n",
              "      <th>3</th>\n",
              "      <td>71609</td>\n",
              "      <td>Ensuite Room (Room 1 &amp; 2) near EXPO</td>\n",
              "      <td>367042</td>\n",
              "      <td>Belinda</td>\n",
              "      <td>East Region</td>\n",
              "      <td>Tampines</td>\n",
              "      <td>1.34541</td>\n",
              "      <td>103.95712</td>\n",
              "      <td>Private room</td>\n",
              "      <td>206</td>\n",
              "      <td>1</td>\n",
              "      <td>14</td>\n",
              "      <td>2019-08-11</td>\n",
              "      <td>0.15</td>\n",
              "      <td>9</td>\n",
              "      <td>353</td>\n",
              "    </tr>\n",
              "    <tr>\n",
              "      <th>4</th>\n",
              "      <td>71896</td>\n",
              "      <td>B&amp;B  Room 1 near Airport &amp; EXPO</td>\n",
              "      <td>367042</td>\n",
              "      <td>Belinda</td>\n",
              "      <td>East Region</td>\n",
              "      <td>Tampines</td>\n",
              "      <td>1.34567</td>\n",
              "      <td>103.95963</td>\n",
              "      <td>Private room</td>\n",
              "      <td>94</td>\n",
              "      <td>1</td>\n",
              "      <td>22</td>\n",
              "      <td>2019-07-28</td>\n",
              "      <td>0.22</td>\n",
              "      <td>9</td>\n",
              "      <td>355</td>\n",
              "    </tr>\n",
              "  </tbody>\n",
              "</table>\n",
              "</div>"
            ],
            "text/plain": [
              "      id  ... availability_365\n",
              "0  49091  ...              365\n",
              "1  50646  ...              365\n",
              "2  56334  ...              365\n",
              "3  71609  ...              353\n",
              "4  71896  ...              355\n",
              "\n",
              "[5 rows x 16 columns]"
            ]
          },
          "metadata": {
            "tags": []
          },
          "execution_count": 3
        }
      ]
    },
    {
      "cell_type": "markdown",
      "metadata": {
        "id": "KFvRh2FRPIHH",
        "colab_type": "text"
      },
      "source": [
        "## Second Way of loading data: Mounting Google Drive\n",
        "\n",
        "1. Mount Google Drive and upload the data to Google drive\n",
        "2. Unzip the zip file and extract all files in it"
      ]
    },
    {
      "cell_type": "code",
      "metadata": {
        "id": "43C_NCRDPqJz",
        "colab_type": "code",
        "outputId": "89488bc4-fd6b-4356-cf17-b20ba19229b5",
        "colab": {
          "base_uri": "https://localhost:8080/",
          "height": 122
        }
      },
      "source": [
        "from google.colab import drive\n",
        "drive.mount('/content/drive')"
      ],
      "execution_count": 0,
      "outputs": [
        {
          "output_type": "stream",
          "text": [
            "Go to this URL in a browser: https://accounts.google.com/o/oauth2/auth?client_id=947318989803-6bn6qk8qdgf4n4g3pfee6491hc0brc4i.apps.googleusercontent.com&redirect_uri=urn%3Aietf%3Awg%3Aoauth%3A2.0%3Aoob&scope=email%20https%3A%2F%2Fwww.googleapis.com%2Fauth%2Fdocs.test%20https%3A%2F%2Fwww.googleapis.com%2Fauth%2Fdrive%20https%3A%2F%2Fwww.googleapis.com%2Fauth%2Fdrive.photos.readonly%20https%3A%2F%2Fwww.googleapis.com%2Fauth%2Fpeopleapi.readonly&response_type=code\n",
            "\n",
            "Enter your authorization code:\n",
            "··········\n",
            "Mounted at /content/drive\n"
          ],
          "name": "stdout"
        }
      ]
    },
    {
      "cell_type": "code",
      "metadata": {
        "id": "VFUzeCzhP1_3",
        "colab_type": "code",
        "outputId": "8ca7caeb-bfda-48d0-999a-1c79346af4e7",
        "colab": {
          "base_uri": "https://localhost:8080/",
          "height": 34
        }
      },
      "source": [
        "# Upload data\n",
        "from zipfile import ZipFile\n",
        "file_name = \"/content/drive/My Drive/singapore-airbnb.zip\"\n",
        "with ZipFile(file_name, 'r') as zip:\n",
        "  zip.extractall()\n",
        "  print('done')"
      ],
      "execution_count": 0,
      "outputs": [
        {
          "output_type": "stream",
          "text": [
            "done\n"
          ],
          "name": "stdout"
        }
      ]
    },
    {
      "cell_type": "code",
      "metadata": {
        "id": "55LWpW5BQljo",
        "colab_type": "code",
        "outputId": "36c072b8-ee7c-4f35-b87a-a6d3c9613b75",
        "colab": {
          "base_uri": "https://localhost:8080/",
          "height": 377
        }
      },
      "source": [
        "# Read CSV file using pandas\n",
        "\n",
        "import pandas as pd\n",
        "df=pd.read_csv('listings.csv')\n",
        "df.head()"
      ],
      "execution_count": 0,
      "outputs": [
        {
          "output_type": "execute_result",
          "data": {
            "text/html": [
              "<div>\n",
              "<style scoped>\n",
              "    .dataframe tbody tr th:only-of-type {\n",
              "        vertical-align: middle;\n",
              "    }\n",
              "\n",
              "    .dataframe tbody tr th {\n",
              "        vertical-align: top;\n",
              "    }\n",
              "\n",
              "    .dataframe thead th {\n",
              "        text-align: right;\n",
              "    }\n",
              "</style>\n",
              "<table border=\"1\" class=\"dataframe\">\n",
              "  <thead>\n",
              "    <tr style=\"text-align: right;\">\n",
              "      <th></th>\n",
              "      <th>id</th>\n",
              "      <th>name</th>\n",
              "      <th>host_id</th>\n",
              "      <th>host_name</th>\n",
              "      <th>neighbourhood_group</th>\n",
              "      <th>neighbourhood</th>\n",
              "      <th>latitude</th>\n",
              "      <th>longitude</th>\n",
              "      <th>room_type</th>\n",
              "      <th>price</th>\n",
              "      <th>minimum_nights</th>\n",
              "      <th>number_of_reviews</th>\n",
              "      <th>last_review</th>\n",
              "      <th>reviews_per_month</th>\n",
              "      <th>calculated_host_listings_count</th>\n",
              "      <th>availability_365</th>\n",
              "    </tr>\n",
              "  </thead>\n",
              "  <tbody>\n",
              "    <tr>\n",
              "      <th>0</th>\n",
              "      <td>49091</td>\n",
              "      <td>COZICOMFORT LONG TERM STAY ROOM 2</td>\n",
              "      <td>266763</td>\n",
              "      <td>Francesca</td>\n",
              "      <td>North Region</td>\n",
              "      <td>Woodlands</td>\n",
              "      <td>1.44255</td>\n",
              "      <td>103.79580</td>\n",
              "      <td>Private room</td>\n",
              "      <td>83</td>\n",
              "      <td>180</td>\n",
              "      <td>1</td>\n",
              "      <td>2013-10-21</td>\n",
              "      <td>0.01</td>\n",
              "      <td>2</td>\n",
              "      <td>365</td>\n",
              "    </tr>\n",
              "    <tr>\n",
              "      <th>1</th>\n",
              "      <td>50646</td>\n",
              "      <td>Pleasant Room along Bukit Timah</td>\n",
              "      <td>227796</td>\n",
              "      <td>Sujatha</td>\n",
              "      <td>Central Region</td>\n",
              "      <td>Bukit Timah</td>\n",
              "      <td>1.33235</td>\n",
              "      <td>103.78521</td>\n",
              "      <td>Private room</td>\n",
              "      <td>81</td>\n",
              "      <td>90</td>\n",
              "      <td>18</td>\n",
              "      <td>2014-12-26</td>\n",
              "      <td>0.28</td>\n",
              "      <td>1</td>\n",
              "      <td>365</td>\n",
              "    </tr>\n",
              "    <tr>\n",
              "      <th>2</th>\n",
              "      <td>56334</td>\n",
              "      <td>COZICOMFORT</td>\n",
              "      <td>266763</td>\n",
              "      <td>Francesca</td>\n",
              "      <td>North Region</td>\n",
              "      <td>Woodlands</td>\n",
              "      <td>1.44246</td>\n",
              "      <td>103.79667</td>\n",
              "      <td>Private room</td>\n",
              "      <td>69</td>\n",
              "      <td>6</td>\n",
              "      <td>20</td>\n",
              "      <td>2015-10-01</td>\n",
              "      <td>0.20</td>\n",
              "      <td>2</td>\n",
              "      <td>365</td>\n",
              "    </tr>\n",
              "    <tr>\n",
              "      <th>3</th>\n",
              "      <td>71609</td>\n",
              "      <td>Ensuite Room (Room 1 &amp; 2) near EXPO</td>\n",
              "      <td>367042</td>\n",
              "      <td>Belinda</td>\n",
              "      <td>East Region</td>\n",
              "      <td>Tampines</td>\n",
              "      <td>1.34541</td>\n",
              "      <td>103.95712</td>\n",
              "      <td>Private room</td>\n",
              "      <td>206</td>\n",
              "      <td>1</td>\n",
              "      <td>14</td>\n",
              "      <td>2019-08-11</td>\n",
              "      <td>0.15</td>\n",
              "      <td>9</td>\n",
              "      <td>353</td>\n",
              "    </tr>\n",
              "    <tr>\n",
              "      <th>4</th>\n",
              "      <td>71896</td>\n",
              "      <td>B&amp;B  Room 1 near Airport &amp; EXPO</td>\n",
              "      <td>367042</td>\n",
              "      <td>Belinda</td>\n",
              "      <td>East Region</td>\n",
              "      <td>Tampines</td>\n",
              "      <td>1.34567</td>\n",
              "      <td>103.95963</td>\n",
              "      <td>Private room</td>\n",
              "      <td>94</td>\n",
              "      <td>1</td>\n",
              "      <td>22</td>\n",
              "      <td>2019-07-28</td>\n",
              "      <td>0.22</td>\n",
              "      <td>9</td>\n",
              "      <td>355</td>\n",
              "    </tr>\n",
              "  </tbody>\n",
              "</table>\n",
              "</div>"
            ],
            "text/plain": [
              "      id  ... availability_365\n",
              "0  49091  ...              365\n",
              "1  50646  ...              365\n",
              "2  56334  ...              365\n",
              "3  71609  ...              353\n",
              "4  71896  ...              355\n",
              "\n",
              "[5 rows x 16 columns]"
            ]
          },
          "metadata": {
            "tags": []
          },
          "execution_count": 6
        }
      ]
    },
    {
      "cell_type": "markdown",
      "metadata": {
        "id": "j3TEc4LuS8x7",
        "colab_type": "text"
      },
      "source": [
        "## Third Way of loading data: Using Git\n",
        "\n",
        "Some times your data is too big in size such as in GBs, so create a new Git repository and upload your data there and then use Git to clone it \n",
        "\n",
        "1. Create a new repo in Git and upload your data\n",
        "2. Clone it in Colab\n",
        "2. Unzip the zip file and extract all files in it"
      ]
    },
    {
      "cell_type": "code",
      "metadata": {
        "id": "CwquLM8aS1lb",
        "colab_type": "code",
        "outputId": "ac0b6437-4931-4b46-cac0-cb5db8fe4d9b",
        "colab": {
          "base_uri": "https://localhost:8080/",
          "height": 136
        }
      },
      "source": [
        "! git clone https://github.com/awesomedata/awesome-public-datasets.git"
      ],
      "execution_count": 0,
      "outputs": [
        {
          "output_type": "stream",
          "text": [
            "Cloning into 'awesome-public-datasets'...\n",
            "remote: Enumerating objects: 9, done.\u001b[K\n",
            "remote: Counting objects: 100% (9/9), done.\u001b[K\n",
            "remote: Compressing objects: 100% (7/7), done.\u001b[K\n",
            "remote: Total 1779 (delta 4), reused 7 (delta 2), pack-reused 1770\u001b[K\n",
            "Receiving objects: 100% (1779/1779), 682.41 KiB | 1.80 MiB/s, done.\n",
            "Resolving deltas: 100% (1061/1061), done.\n"
          ],
          "name": "stdout"
        }
      ]
    },
    {
      "cell_type": "code",
      "metadata": {
        "id": "DBFKjhHdVGou",
        "colab_type": "code",
        "outputId": "de0cddb5-f867-41f8-9082-e2067ef323cb",
        "colab": {
          "base_uri": "https://localhost:8080/",
          "height": 85
        }
      },
      "source": [
        "! git clone https://github.com/datasets/country-list.git"
      ],
      "execution_count": 0,
      "outputs": [
        {
          "output_type": "stream",
          "text": [
            "Cloning into 'country-list'...\n",
            "remote: Enumerating objects: 96, done.\u001b[K\n",
            "Unpacking objects:   1% (1/96)   \rUnpacking objects:   2% (2/96)   \rUnpacking objects:   3% (3/96)   \rUnpacking objects:   4% (4/96)   \rUnpacking objects:   5% (5/96)   \rUnpacking objects:   6% (6/96)   \rUnpacking objects:   7% (7/96)   \rUnpacking objects:   8% (8/96)   \rUnpacking objects:   9% (9/96)   \rUnpacking objects:  10% (10/96)   \rUnpacking objects:  11% (11/96)   \rUnpacking objects:  12% (12/96)   \rUnpacking objects:  13% (13/96)   \rUnpacking objects:  14% (14/96)   \rUnpacking objects:  15% (15/96)   \rUnpacking objects:  16% (16/96)   \rUnpacking objects:  17% (17/96)   \rUnpacking objects:  18% (18/96)   \rUnpacking objects:  19% (19/96)   \rremote: Total 96 (delta 0), reused 0 (delta 0), pack-reused 96\n",
            "Unpacking objects:  20% (20/96)   \rUnpacking objects:  21% (21/96)   \rUnpacking objects:  22% (22/96)   \rUnpacking objects:  23% (23/96)   \rUnpacking objects:  25% (24/96)   \rUnpacking objects:  26% (25/96)   \rUnpacking objects:  27% (26/96)   \rUnpacking objects:  28% (27/96)   \rUnpacking objects:  29% (28/96)   \rUnpacking objects:  30% (29/96)   \rUnpacking objects:  31% (30/96)   \rUnpacking objects:  32% (31/96)   \rUnpacking objects:  33% (32/96)   \rUnpacking objects:  34% (33/96)   \rUnpacking objects:  35% (34/96)   \rUnpacking objects:  36% (35/96)   \rUnpacking objects:  37% (36/96)   \rUnpacking objects:  38% (37/96)   \rUnpacking objects:  39% (38/96)   \rUnpacking objects:  40% (39/96)   \rUnpacking objects:  41% (40/96)   \rUnpacking objects:  42% (41/96)   \rUnpacking objects:  43% (42/96)   \rUnpacking objects:  44% (43/96)   \rUnpacking objects:  45% (44/96)   \rUnpacking objects:  46% (45/96)   \rUnpacking objects:  47% (46/96)   \rUnpacking objects:  48% (47/96)   \rUnpacking objects:  50% (48/96)   \rUnpacking objects:  51% (49/96)   \rUnpacking objects:  52% (50/96)   \rUnpacking objects:  53% (51/96)   \rUnpacking objects:  54% (52/96)   \rUnpacking objects:  55% (53/96)   \rUnpacking objects:  56% (54/96)   \rUnpacking objects:  57% (55/96)   \rUnpacking objects:  58% (56/96)   \rUnpacking objects:  59% (57/96)   \rUnpacking objects:  60% (58/96)   \rUnpacking objects:  61% (59/96)   \rUnpacking objects:  62% (60/96)   \rUnpacking objects:  63% (61/96)   \rUnpacking objects:  64% (62/96)   \rUnpacking objects:  65% (63/96)   \rUnpacking objects:  66% (64/96)   \rUnpacking objects:  67% (65/96)   \rUnpacking objects:  68% (66/96)   \rUnpacking objects:  69% (67/96)   \rUnpacking objects:  70% (68/96)   \rUnpacking objects:  71% (69/96)   \rUnpacking objects:  72% (70/96)   \rUnpacking objects:  73% (71/96)   \rUnpacking objects:  75% (72/96)   \rUnpacking objects:  76% (73/96)   \rUnpacking objects:  77% (74/96)   \rUnpacking objects:  78% (75/96)   \rUnpacking objects:  79% (76/96)   \rUnpacking objects:  80% (77/96)   \rUnpacking objects:  81% (78/96)   \rUnpacking objects:  82% (79/96)   \rUnpacking objects:  83% (80/96)   \rUnpacking objects:  84% (81/96)   \rUnpacking objects:  85% (82/96)   \rUnpacking objects:  86% (83/96)   \rUnpacking objects:  87% (84/96)   \rUnpacking objects:  88% (85/96)   \rUnpacking objects:  89% (86/96)   \rUnpacking objects:  90% (87/96)   \rUnpacking objects:  91% (88/96)   \rUnpacking objects:  92% (89/96)   \rUnpacking objects:  93% (90/96)   \rUnpacking objects:  94% (91/96)   \rUnpacking objects:  95% (92/96)   \rUnpacking objects:  96% (93/96)   \rUnpacking objects:  97% (94/96)   \rUnpacking objects:  98% (95/96)   \rUnpacking objects: 100% (96/96)   \rUnpacking objects: 100% (96/96), done.\n"
          ],
          "name": "stdout"
        }
      ]
    },
    {
      "cell_type": "code",
      "metadata": {
        "id": "CmS8SeUUVRFN",
        "colab_type": "code",
        "outputId": "43f155c6-2cdc-40b0-e41f-632206cda86b",
        "colab": {
          "base_uri": "https://localhost:8080/",
          "height": 204
        }
      },
      "source": [
        "# Read CSV file using pandas\n",
        "\n",
        "import pandas as pd\n",
        "df=pd.read_csv('country-list/data.csv')\n",
        "df.head()"
      ],
      "execution_count": 0,
      "outputs": [
        {
          "output_type": "execute_result",
          "data": {
            "text/html": [
              "<div>\n",
              "<style scoped>\n",
              "    .dataframe tbody tr th:only-of-type {\n",
              "        vertical-align: middle;\n",
              "    }\n",
              "\n",
              "    .dataframe tbody tr th {\n",
              "        vertical-align: top;\n",
              "    }\n",
              "\n",
              "    .dataframe thead th {\n",
              "        text-align: right;\n",
              "    }\n",
              "</style>\n",
              "<table border=\"1\" class=\"dataframe\">\n",
              "  <thead>\n",
              "    <tr style=\"text-align: right;\">\n",
              "      <th></th>\n",
              "      <th>Name</th>\n",
              "      <th>Code</th>\n",
              "    </tr>\n",
              "  </thead>\n",
              "  <tbody>\n",
              "    <tr>\n",
              "      <th>0</th>\n",
              "      <td>Afghanistan</td>\n",
              "      <td>AF</td>\n",
              "    </tr>\n",
              "    <tr>\n",
              "      <th>1</th>\n",
              "      <td>Åland Islands</td>\n",
              "      <td>AX</td>\n",
              "    </tr>\n",
              "    <tr>\n",
              "      <th>2</th>\n",
              "      <td>Albania</td>\n",
              "      <td>AL</td>\n",
              "    </tr>\n",
              "    <tr>\n",
              "      <th>3</th>\n",
              "      <td>Algeria</td>\n",
              "      <td>DZ</td>\n",
              "    </tr>\n",
              "    <tr>\n",
              "      <th>4</th>\n",
              "      <td>American Samoa</td>\n",
              "      <td>AS</td>\n",
              "    </tr>\n",
              "  </tbody>\n",
              "</table>\n",
              "</div>"
            ],
            "text/plain": [
              "             Name Code\n",
              "0     Afghanistan   AF\n",
              "1   Åland Islands   AX\n",
              "2         Albania   AL\n",
              "3         Algeria   DZ\n",
              "4  American Samoa   AS"
            ]
          },
          "metadata": {
            "tags": []
          },
          "execution_count": 9
        }
      ]
    }
  ]
}