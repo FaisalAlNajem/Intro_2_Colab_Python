{
  "nbformat": 4,
  "nbformat_minor": 0,
  "metadata": {
    "colab": {
      "name": "Lesson_8_Series.ipynb",
      "provenance": [],
      "collapsed_sections": [],
      "authorship_tag": "ABX9TyO4texS/uUnvW2tyWtckJm8",
      "include_colab_link": true
    },
    "kernelspec": {
      "name": "python3",
      "display_name": "Python 3"
    }
  },
  "cells": [
    {
      "cell_type": "markdown",
      "metadata": {
        "id": "view-in-github",
        "colab_type": "text"
      },
      "source": [
        "<a href=\"https://colab.research.google.com/github/theclassofai/Intro_2_Colab_Python/blob/master/Lesson_8_Series.ipynb\" target=\"_parent\"><img src=\"https://colab.research.google.com/assets/colab-badge.svg\" alt=\"Open In Colab\"/></a>"
      ]
    },
    {
      "cell_type": "code",
      "metadata": {
        "id": "vS2v1-E-7e3p",
        "colab_type": "code",
        "colab": {
          "base_uri": "https://localhost:8080/",
          "height": 71
        },
        "outputId": "0f7483d5-4097-4cbc-b03a-57fb206fa99e"
      },
      "source": [
        "# Import series in two ways\n",
        "\n",
        "from pandas import Series\n",
        "ser1 = Series()\n",
        "\n",
        "# or \n",
        "\n",
        "import pandas as pd \n",
        "ser1 = pd.Series()"
      ],
      "execution_count": 1,
      "outputs": [
        {
          "output_type": "stream",
          "text": [
            "/usr/local/lib/python3.6/dist-packages/ipykernel_launcher.py:2: DeprecationWarning: The default dtype for empty Series will be 'object' instead of 'float64' in a future version. Specify a dtype explicitly to silence this warning.\n",
            "  \n"
          ],
          "name": "stderr"
        }
      ]
    },
    {
      "cell_type": "code",
      "metadata": {
        "id": "yu8HltZL8MW7",
        "colab_type": "code",
        "colab": {}
      },
      "source": [
        "vowels = [\"a\",\"e\",\"i\",\"o\",\"u\"] # By default it is a list"
      ],
      "execution_count": 0,
      "outputs": []
    },
    {
      "cell_type": "code",
      "metadata": {
        "id": "3IaRYYBI7m5P",
        "colab_type": "code",
        "colab": {
          "base_uri": "https://localhost:8080/",
          "height": 119
        },
        "outputId": "d99a09f8-8519-45b9-a558-8c81a344d22f"
      },
      "source": [
        "# To turn this into a series we could write:\n",
        "eng_vowel = pd.Series(vowels,name=\"vowel\")\n",
        "eng_vowel"
      ],
      "execution_count": 8,
      "outputs": [
        {
          "output_type": "execute_result",
          "data": {
            "text/plain": [
              "0    a\n",
              "1    e\n",
              "2    i\n",
              "3    o\n",
              "4    u\n",
              "Name: vowel, dtype: object"
            ]
          },
          "metadata": {
            "tags": []
          },
          "execution_count": 8
        }
      ]
    },
    {
      "cell_type": "code",
      "metadata": {
        "id": "yPTXgpBU9NqJ",
        "colab_type": "code",
        "colab": {
          "base_uri": "https://localhost:8080/",
          "height": 34
        },
        "outputId": "81f42061-3468-4281-bc7d-964aba739dcc"
      },
      "source": [
        "# Number of vowel in sentance\n",
        "n_vowel = {\"a\":8, \n",
        "               \"e\":7, \n",
        "               \"i\":5, \n",
        "               \"o\":6, \n",
        "               \"u\":8\n",
        "               }\n",
        "\n",
        "print(n_vowel)\n"
      ],
      "execution_count": 13,
      "outputs": [
        {
          "output_type": "stream",
          "text": [
            "{'a': 8, 'e': 7, 'i': 5, 'o': 6, 'u': 8}\n"
          ],
          "name": "stdout"
        }
      ]
    },
    {
      "cell_type": "code",
      "metadata": {
        "id": "RbT5j4KU9mbH",
        "colab_type": "code",
        "colab": {
          "base_uri": "https://localhost:8080/",
          "height": 119
        },
        "outputId": "81ca93f7-c633-435b-9781-e77bc02abb0c"
      },
      "source": [
        "# Convert dict into series\n",
        "# Now we can create a Series from that dictionary, much in the way we did with a list. Except this\n",
        "# time, the keys will be the indices rather than the numbers 0 through 4\n",
        "\n",
        "n_vowel = pd.Series(n_vowel)\n",
        "print(n_vowel)"
      ],
      "execution_count": 15,
      "outputs": [
        {
          "output_type": "stream",
          "text": [
            "a    8\n",
            "e    7\n",
            "i    5\n",
            "o    6\n",
            "u    8\n",
            "dtype: int64\n"
          ],
          "name": "stdout"
        }
      ]
    },
    {
      "cell_type": "markdown",
      "metadata": {
        "id": "r_xFWvyi-PEP",
        "colab_type": "text"
      },
      "source": [
        "There are three ways in which we tend to extract data from a Series: by index, by value, as a distribution. See a description of each below."
      ]
    },
    {
      "cell_type": "code",
      "metadata": {
        "id": "tc1p-GzN-OPC",
        "colab_type": "code",
        "colab": {
          "base_uri": "https://localhost:8080/",
          "height": 51
        },
        "outputId": "f39deb3a-68da-4a69-d71b-78c4c680ecde"
      },
      "source": [
        "# By index\n",
        "\n",
        "print(n_vowel[\"o\"])\n",
        "\n",
        "# or \n",
        "\n",
        "print(n_vowel[3]) # because o is stored at position 3 in index"
      ],
      "execution_count": 18,
      "outputs": [
        {
          "output_type": "stream",
          "text": [
            "6\n",
            "6\n"
          ],
          "name": "stdout"
        }
      ]
    },
    {
      "cell_type": "code",
      "metadata": {
        "id": "gRQYegwo_Aaz",
        "colab_type": "code",
        "colab": {
          "base_uri": "https://localhost:8080/",
          "height": 119
        },
        "outputId": "9a4f7f76-0735-43e1-f9e4-af4f60e30880"
      },
      "source": [
        "# Working with value\n",
        "\n",
        "display(n_vowel > 6)"
      ],
      "execution_count": 23,
      "outputs": [
        {
          "output_type": "display_data",
          "data": {
            "text/plain": [
              "a     True\n",
              "e     True\n",
              "i    False\n",
              "o    False\n",
              "u     True\n",
              "dtype: bool"
            ]
          },
          "metadata": {
            "tags": []
          }
        }
      ]
    },
    {
      "cell_type": "code",
      "metadata": {
        "id": "Jf-QhpNNAo0m",
        "colab_type": "code",
        "colab": {
          "base_uri": "https://localhost:8080/",
          "height": 102
        },
        "outputId": "5e27b359-1824-4937-c5b1-aad601f7c47f"
      },
      "source": [
        "# Working from distributions \n",
        "print(n_vowel.value_counts())"
      ],
      "execution_count": 24,
      "outputs": [
        {
          "output_type": "stream",
          "text": [
            "8    2\n",
            "7    1\n",
            "6    1\n",
            "5    1\n",
            "dtype: int64\n"
          ],
          "name": "stdout"
        }
      ]
    },
    {
      "cell_type": "code",
      "metadata": {
        "id": "uP1DK2ClA3tL",
        "colab_type": "code",
        "colab": {
          "base_uri": "https://localhost:8080/",
          "height": 68
        },
        "outputId": "d142b62b-1999-4195-bd52-1b92df0deab4"
      },
      "source": [
        "(n_vowel > 7).value_counts()"
      ],
      "execution_count": 25,
      "outputs": [
        {
          "output_type": "execute_result",
          "data": {
            "text/plain": [
              "False    3\n",
              "True     2\n",
              "dtype: int64"
            ]
          },
          "metadata": {
            "tags": []
          },
          "execution_count": 25
        }
      ]
    },
    {
      "cell_type": "code",
      "metadata": {
        "id": "U0qeS_gTBEOO",
        "colab_type": "code",
        "colab": {
          "base_uri": "https://localhost:8080/",
          "height": 85
        },
        "outputId": "f96346c7-e020-4da0-a967-0712da7d0b3e"
      },
      "source": [
        "print(n_vowel.mean())\n",
        "print(n_vowel.median())\n"
      ],
      "execution_count": 27,
      "outputs": [
        {
          "output_type": "stream",
          "text": [
            "6.8\n",
            "7.0\n",
            "0    8\n",
            "dtype: int64\n"
          ],
          "name": "stdout"
        }
      ]
    }
  ]
}