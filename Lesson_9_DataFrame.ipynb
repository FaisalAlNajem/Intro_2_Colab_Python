{
  "nbformat": 4,
  "nbformat_minor": 0,
  "metadata": {
    "colab": {
      "name": "Lesson_9_DataFrame.ipynb",
      "provenance": [],
      "collapsed_sections": [],
      "authorship_tag": "ABX9TyN3M0rMlfhwS7W9Lb88dqdP",
      "include_colab_link": true
    },
    "kernelspec": {
      "name": "python3",
      "display_name": "Python 3"
    }
  },
  "cells": [
    {
      "cell_type": "markdown",
      "metadata": {
        "id": "view-in-github",
        "colab_type": "text"
      },
      "source": [
        "<a href=\"https://colab.research.google.com/github/theclassofai/Intro_2_Colab_Python/blob/master/Lesson_9_DataFrame.ipynb\" target=\"_parent\"><img src=\"https://colab.research.google.com/assets/colab-badge.svg\" alt=\"Open In Colab\"/></a>"
      ]
    },
    {
      "cell_type": "markdown",
      "metadata": {
        "id": "nG6KQWu_sQiJ",
        "colab_type": "text"
      },
      "source": [
        "If we have two *Series*, each with the same index, we can combine them together. This will create a DataFrame."
      ]
    },
    {
      "cell_type": "code",
      "metadata": {
        "id": "7-UDeggvuSjd",
        "colab_type": "code",
        "colab": {
          "base_uri": "https://localhost:8080/",
          "height": 187
        },
        "outputId": "c3438a14-ce07-4cfb-968d-2ae39e7bb108"
      },
      "source": [
        "import pandas as pd\n",
        "ser1 = pd.Series({\"Kanee\":\"Willamson\", \"Virat\":\"Kholi\", \"Sachin\":\"Tendulkar\", \"Ben\":\"Stokes\"})\n",
        "print(ser1)\n",
        "df1 = pd.DataFrame(ser1)\n",
        "print(df1)"
      ],
      "execution_count": 1,
      "outputs": [
        {
          "output_type": "stream",
          "text": [
            "Kanee     Willamson\n",
            "Virat         Kholi\n",
            "Sachin    Tendulkar\n",
            "Ben          Stokes\n",
            "dtype: object\n",
            "                0\n",
            "Kanee   Willamson\n",
            "Virat       Kholi\n",
            "Sachin  Tendulkar\n",
            "Ben        Stokes\n"
          ],
          "name": "stdout"
        }
      ]
    },
    {
      "cell_type": "code",
      "metadata": {
        "id": "Is6HOCtRwuaQ",
        "colab_type": "code",
        "colab": {
          "base_uri": "https://localhost:8080/",
          "height": 187
        },
        "outputId": "b4ed2934-d843-40b9-dcc0-c5701baa7be4"
      },
      "source": [
        "import pandas as pd\n",
        "ser1 = pd.Series({\"Kanee\":\"Willamson\", \"Virat\":\"Kholi\", \"Sachin\":\"Tendulkar\", \"Ben\":\"Stokes\"}, name=\"PNames\")\n",
        "df_1 = pd.DataFrame(ser1)\n",
        "print(df_1)\n",
        "\n",
        "df_1.columns = [\"S Name\"]\n",
        "print(df_1)\n"
      ],
      "execution_count": 3,
      "outputs": [
        {
          "output_type": "stream",
          "text": [
            "           PNames\n",
            "Kanee   Willamson\n",
            "Virat       Kholi\n",
            "Sachin  Tendulkar\n",
            "Ben        Stokes\n",
            "           S Name\n",
            "Kanee   Willamson\n",
            "Virat       Kholi\n",
            "Sachin  Tendulkar\n",
            "Ben        Stokes\n"
          ],
          "name": "stdout"
        }
      ]
    },
    {
      "cell_type": "code",
      "metadata": {
        "id": "fAc0kEg73cvV",
        "colab_type": "code",
        "colab": {
          "base_uri": "https://localhost:8080/",
          "height": 142
        },
        "outputId": "394d7532-0e25-4a8a-e0d1-fe3720eb0b6b"
      },
      "source": [
        "# Creating DataFrame from a List of Lists\n",
        "\n",
        "mList = [[\"Virat\",\"Kholi\",1988,\"Male\"],\n",
        "          [\"Sachin\", \"Tendulkar\", 1974, \"Male\"],\n",
        "          [\"Ben\", \"Stokes\", 1989, \"Male\"]]\n",
        "mdf = pd.DataFrame(mList)\n",
        "display(mdf)"
      ],
      "execution_count": 4,
      "outputs": [
        {
          "output_type": "display_data",
          "data": {
            "text/html": [
              "<div>\n",
              "<style scoped>\n",
              "    .dataframe tbody tr th:only-of-type {\n",
              "        vertical-align: middle;\n",
              "    }\n",
              "\n",
              "    .dataframe tbody tr th {\n",
              "        vertical-align: top;\n",
              "    }\n",
              "\n",
              "    .dataframe thead th {\n",
              "        text-align: right;\n",
              "    }\n",
              "</style>\n",
              "<table border=\"1\" class=\"dataframe\">\n",
              "  <thead>\n",
              "    <tr style=\"text-align: right;\">\n",
              "      <th></th>\n",
              "      <th>0</th>\n",
              "      <th>1</th>\n",
              "      <th>2</th>\n",
              "      <th>3</th>\n",
              "    </tr>\n",
              "  </thead>\n",
              "  <tbody>\n",
              "    <tr>\n",
              "      <th>0</th>\n",
              "      <td>Virat</td>\n",
              "      <td>Kholi</td>\n",
              "      <td>1988</td>\n",
              "      <td>Male</td>\n",
              "    </tr>\n",
              "    <tr>\n",
              "      <th>1</th>\n",
              "      <td>Sachin</td>\n",
              "      <td>Tendulkar</td>\n",
              "      <td>1974</td>\n",
              "      <td>Male</td>\n",
              "    </tr>\n",
              "    <tr>\n",
              "      <th>2</th>\n",
              "      <td>Ben</td>\n",
              "      <td>Stokes</td>\n",
              "      <td>1989</td>\n",
              "      <td>Male</td>\n",
              "    </tr>\n",
              "  </tbody>\n",
              "</table>\n",
              "</div>"
            ],
            "text/plain": [
              "        0          1     2     3\n",
              "0   Virat      Kholi  1988  Male\n",
              "1  Sachin  Tendulkar  1974  Male\n",
              "2     Ben     Stokes  1989  Male"
            ]
          },
          "metadata": {
            "tags": []
          }
        }
      ]
    },
    {
      "cell_type": "code",
      "metadata": {
        "id": "by7bbVkfAl-A",
        "colab_type": "code",
        "colab": {
          "base_uri": "https://localhost:8080/",
          "height": 173
        },
        "outputId": "760f87d9-b955-49a8-90b2-a68e4e89ec1f"
      },
      "source": [
        "mdf.set_index(0, inplace=True)\n",
        "mdf"
      ],
      "execution_count": 5,
      "outputs": [
        {
          "output_type": "execute_result",
          "data": {
            "text/html": [
              "<div>\n",
              "<style scoped>\n",
              "    .dataframe tbody tr th:only-of-type {\n",
              "        vertical-align: middle;\n",
              "    }\n",
              "\n",
              "    .dataframe tbody tr th {\n",
              "        vertical-align: top;\n",
              "    }\n",
              "\n",
              "    .dataframe thead th {\n",
              "        text-align: right;\n",
              "    }\n",
              "</style>\n",
              "<table border=\"1\" class=\"dataframe\">\n",
              "  <thead>\n",
              "    <tr style=\"text-align: right;\">\n",
              "      <th></th>\n",
              "      <th>1</th>\n",
              "      <th>2</th>\n",
              "      <th>3</th>\n",
              "    </tr>\n",
              "    <tr>\n",
              "      <th>0</th>\n",
              "      <th></th>\n",
              "      <th></th>\n",
              "      <th></th>\n",
              "    </tr>\n",
              "  </thead>\n",
              "  <tbody>\n",
              "    <tr>\n",
              "      <th>Virat</th>\n",
              "      <td>Kholi</td>\n",
              "      <td>1988</td>\n",
              "      <td>Male</td>\n",
              "    </tr>\n",
              "    <tr>\n",
              "      <th>Sachin</th>\n",
              "      <td>Tendulkar</td>\n",
              "      <td>1974</td>\n",
              "      <td>Male</td>\n",
              "    </tr>\n",
              "    <tr>\n",
              "      <th>Ben</th>\n",
              "      <td>Stokes</td>\n",
              "      <td>1989</td>\n",
              "      <td>Male</td>\n",
              "    </tr>\n",
              "  </tbody>\n",
              "</table>\n",
              "</div>"
            ],
            "text/plain": [
              "                1     2     3\n",
              "0                            \n",
              "Virat       Kholi  1988  Male\n",
              "Sachin  Tendulkar  1974  Male\n",
              "Ben        Stokes  1989  Male"
            ]
          },
          "metadata": {
            "tags": []
          },
          "execution_count": 5
        }
      ]
    },
    {
      "cell_type": "code",
      "metadata": {
        "id": "chxOaL06B1Qr",
        "colab_type": "code",
        "colab": {
          "base_uri": "https://localhost:8080/",
          "height": 85
        },
        "outputId": "133bcf42-ee0d-44e8-bda0-9ceb28a8f148"
      },
      "source": [
        "# Creating DataFrame from Dict \n",
        "\n",
        "mDict = {\"Virat\": [\"Kholi\",1988,\"Male\"],\n",
        "              \"Ben\":[\"Stokes\", 1974, \"Male\"],\n",
        "              \"Sahcin\": [\"Tendulkar\", 1989, \"Male\"]}\n",
        "\n",
        "mdf2 = pd.DataFrame.from_dict(mDict)\n",
        "print(mdf2) # Here the DataFrame will be created without key"
      ],
      "execution_count": 8,
      "outputs": [
        {
          "output_type": "stream",
          "text": [
            "   Virat     Ben     Sahcin\n",
            "0  Kholi  Stokes  Tendulkar\n",
            "1   1988    1974       1989\n",
            "2   Male    Male       Male\n"
          ],
          "name": "stdout"
        }
      ]
    },
    {
      "cell_type": "code",
      "metadata": {
        "id": "3MUkNnVFr8N0",
        "colab_type": "code",
        "colab": {
          "base_uri": "https://localhost:8080/",
          "height": 85
        },
        "outputId": "2f3b2b99-be38-443a-d2bb-1c237ef4de0c"
      },
      "source": [
        "# Creating DataFrame from Dict\n",
        "\n",
        "mDict = {\"Virat\": [\"Kholi\",1988,\"Male\"],\n",
        "              \"Ben\":[\"Stokes\", 1974, \"Male\"],\n",
        "              \"Sahcin\": [\"Tendulkar\", 1989, \"Male\"]}\n",
        "\n",
        "mdf1 = pd.DataFrame.from_dict(mDict, orient=\"index\")\n",
        "print(mdf1) # Here the DataFrame will be created with key"
      ],
      "execution_count": 7,
      "outputs": [
        {
          "output_type": "stream",
          "text": [
            "                0     1     2\n",
            "Virat       Kholi  1988  Male\n",
            "Ben        Stokes  1974  Male\n",
            "Sahcin  Tendulkar  1989  Male\n"
          ],
          "name": "stdout"
        }
      ]
    },
    {
      "cell_type": "code",
      "metadata": {
        "id": "UR6wPEgKCNcs",
        "colab_type": "code",
        "colab": {
          "base_uri": "https://localhost:8080/",
          "height": 85
        },
        "outputId": "29cd0384-447b-458a-d8c3-92464639bb47"
      },
      "source": [
        "# Creating DataFrame from Dict\n",
        "\n",
        "mDict = {\"Virat\": [\"Kholi\",1988,\"Male\"],\n",
        "              \"Ben\":[\"Stokes\", 1974, \"Male\"],\n",
        "              \"Sahcin\": [\"Tendulkar\", 1989, \"Male\"]}\n",
        "\n",
        "mdf2 = pd.DataFrame.from_dict(mDict, orient=\"columns\")\n",
        "print(mdf2) # Here the DataFrame will be created with key"
      ],
      "execution_count": 9,
      "outputs": [
        {
          "output_type": "stream",
          "text": [
            "   Virat     Ben     Sahcin\n",
            "0  Kholi  Stokes  Tendulkar\n",
            "1   1988    1974       1989\n",
            "2   Male    Male       Male\n"
          ],
          "name": "stdout"
        }
      ]
    },
    {
      "cell_type": "code",
      "metadata": {
        "id": "C0e5R3_BEC7U",
        "colab_type": "code",
        "colab": {
          "base_uri": "https://localhost:8080/",
          "height": 221
        },
        "outputId": "e7a3fa76-5720-44fe-d683-b31ef1d52820"
      },
      "source": [
        "# Adding a New Series to an existing DataFrame\n",
        "mDict = {\"Virat\": [\"Kholi\",1988,\"Male\"],\n",
        "         \"Ben\":[\"Stokes\", 1974, \"Male\"],\n",
        "         \"Sachin\": [\"Tendulkar\", 1989, \"Male\"]}\n",
        "\n",
        "mdf3 = pd.DataFrame.from_dict(mDict, orient=\"index\",columns=[\"F Name\", \"DOB\", \"Sex\"])\n",
        "print(mdf3)\n",
        "\n",
        "centuries = pd.Series({\"Virat\":45,\"Ben\":10, \"Sachin\":5}) # Adding series of existing dataframe\n",
        "mdf3[\"centuries\"] = centuries\n",
        "print(mdf3)\n",
        "\n",
        "\n",
        "halfcenturies = [60, 40, 50] # Adding List of existing dataframe\n",
        "mdf3[\"halfcenturies\"] = halfcenturies\n",
        "print(mdf3)\n"
      ],
      "execution_count": 23,
      "outputs": [
        {
          "output_type": "stream",
          "text": [
            "           F Name   DOB   Sex\n",
            "Virat       Kholi  1988  Male\n",
            "Ben        Stokes  1974  Male\n",
            "Sachin  Tendulkar  1989  Male\n",
            "           F Name   DOB   Sex  centuries\n",
            "Virat       Kholi  1988  Male         45\n",
            "Ben        Stokes  1974  Male         10\n",
            "Sachin  Tendulkar  1989  Male          5\n",
            "           F Name   DOB   Sex  centuries  halfcenturies\n",
            "Virat       Kholi  1988  Male         45             60\n",
            "Ben        Stokes  1974  Male         10             40\n",
            "Sachin  Tendulkar  1989  Male          5             50\n"
          ],
          "name": "stdout"
        }
      ]
    },
    {
      "cell_type": "markdown",
      "metadata": {
        "id": "ZqRzQOz2J8jS",
        "colab_type": "text"
      },
      "source": [
        "### DataFrame: Querying and Slicing"
      ]
    },
    {
      "cell_type": "code",
      "metadata": {
        "id": "Nqe1qIEcJ-Vt",
        "colab_type": "code",
        "colab": {
          "base_uri": "https://localhost:8080/",
          "height": 119
        },
        "outputId": "3f38f142-d629-46f1-bbca-23233dbe3306"
      },
      "source": [
        "# Difference between .loc[] and .iloc[]\n",
        "\n",
        "mdf3.loc[\"Virat\"] # in .loc[] we have to mention the name of row or key in the form of index"
      ],
      "execution_count": 24,
      "outputs": [
        {
          "output_type": "execute_result",
          "data": {
            "text/plain": [
              "F Name           Kholi\n",
              "DOB               1988\n",
              "Sex               Male\n",
              "centuries           45\n",
              "halfcenturies       60\n",
              "Name: Virat, dtype: object"
            ]
          },
          "metadata": {
            "tags": []
          },
          "execution_count": 24
        }
      ]
    },
    {
      "cell_type": "code",
      "metadata": {
        "id": "RItvJqVZKbNZ",
        "colab_type": "code",
        "colab": {
          "base_uri": "https://localhost:8080/",
          "height": 119
        },
        "outputId": "47bc846a-c6f9-4bcf-b12d-595b06564d0e"
      },
      "source": [
        "mdf3.iloc[0] # in .iloc[] we have to mention the number in the form of index\n"
      ],
      "execution_count": 27,
      "outputs": [
        {
          "output_type": "execute_result",
          "data": {
            "text/plain": [
              "F Name           Kholi\n",
              "DOB               1988\n",
              "Sex               Male\n",
              "centuries           45\n",
              "halfcenturies       60\n",
              "Name: Virat, dtype: object"
            ]
          },
          "metadata": {
            "tags": []
          },
          "execution_count": 27
        }
      ]
    },
    {
      "cell_type": "code",
      "metadata": {
        "id": "ZwDh65Z4K94o",
        "colab_type": "code",
        "colab": {
          "base_uri": "https://localhost:8080/",
          "height": 111
        },
        "outputId": "93848ba4-4a36-4b12-c85e-44d702a4115d"
      },
      "source": [
        "# Asking for multiple rows of coulms\n",
        "\n",
        "mdf3.loc[[\"Virat\", 'Ben']] # in .loc[] we have to mention the name of row or key in the form of list in double brackets"
      ],
      "execution_count": 29,
      "outputs": [
        {
          "output_type": "execute_result",
          "data": {
            "text/html": [
              "<div>\n",
              "<style scoped>\n",
              "    .dataframe tbody tr th:only-of-type {\n",
              "        vertical-align: middle;\n",
              "    }\n",
              "\n",
              "    .dataframe tbody tr th {\n",
              "        vertical-align: top;\n",
              "    }\n",
              "\n",
              "    .dataframe thead th {\n",
              "        text-align: right;\n",
              "    }\n",
              "</style>\n",
              "<table border=\"1\" class=\"dataframe\">\n",
              "  <thead>\n",
              "    <tr style=\"text-align: right;\">\n",
              "      <th></th>\n",
              "      <th>F Name</th>\n",
              "      <th>DOB</th>\n",
              "      <th>Sex</th>\n",
              "      <th>centuries</th>\n",
              "      <th>halfcenturies</th>\n",
              "    </tr>\n",
              "  </thead>\n",
              "  <tbody>\n",
              "    <tr>\n",
              "      <th>Virat</th>\n",
              "      <td>Kholi</td>\n",
              "      <td>1988</td>\n",
              "      <td>Male</td>\n",
              "      <td>45</td>\n",
              "      <td>60</td>\n",
              "    </tr>\n",
              "    <tr>\n",
              "      <th>Ben</th>\n",
              "      <td>Stokes</td>\n",
              "      <td>1974</td>\n",
              "      <td>Male</td>\n",
              "      <td>10</td>\n",
              "      <td>40</td>\n",
              "    </tr>\n",
              "  </tbody>\n",
              "</table>\n",
              "</div>"
            ],
            "text/plain": [
              "       F Name   DOB   Sex  centuries  halfcenturies\n",
              "Virat   Kholi  1988  Male         45             60\n",
              "Ben    Stokes  1974  Male         10             40"
            ]
          },
          "metadata": {
            "tags": []
          },
          "execution_count": 29
        }
      ]
    },
    {
      "cell_type": "code",
      "metadata": {
        "id": "CUAyRGf-LSIE",
        "colab_type": "code",
        "colab": {
          "base_uri": "https://localhost:8080/",
          "height": 111
        },
        "outputId": "5aea2a94-3bdb-4489-c836-62522680d347"
      },
      "source": [
        "mdf3.iloc[[0,1]] # in .iloc[] we have to mention the name of row or key in the form of list in double brackets"
      ],
      "execution_count": 30,
      "outputs": [
        {
          "output_type": "execute_result",
          "data": {
            "text/html": [
              "<div>\n",
              "<style scoped>\n",
              "    .dataframe tbody tr th:only-of-type {\n",
              "        vertical-align: middle;\n",
              "    }\n",
              "\n",
              "    .dataframe tbody tr th {\n",
              "        vertical-align: top;\n",
              "    }\n",
              "\n",
              "    .dataframe thead th {\n",
              "        text-align: right;\n",
              "    }\n",
              "</style>\n",
              "<table border=\"1\" class=\"dataframe\">\n",
              "  <thead>\n",
              "    <tr style=\"text-align: right;\">\n",
              "      <th></th>\n",
              "      <th>F Name</th>\n",
              "      <th>DOB</th>\n",
              "      <th>Sex</th>\n",
              "      <th>centuries</th>\n",
              "      <th>halfcenturies</th>\n",
              "    </tr>\n",
              "  </thead>\n",
              "  <tbody>\n",
              "    <tr>\n",
              "      <th>Virat</th>\n",
              "      <td>Kholi</td>\n",
              "      <td>1988</td>\n",
              "      <td>Male</td>\n",
              "      <td>45</td>\n",
              "      <td>60</td>\n",
              "    </tr>\n",
              "    <tr>\n",
              "      <th>Ben</th>\n",
              "      <td>Stokes</td>\n",
              "      <td>1974</td>\n",
              "      <td>Male</td>\n",
              "      <td>10</td>\n",
              "      <td>40</td>\n",
              "    </tr>\n",
              "  </tbody>\n",
              "</table>\n",
              "</div>"
            ],
            "text/plain": [
              "       F Name   DOB   Sex  centuries  halfcenturies\n",
              "Virat   Kholi  1988  Male         45             60\n",
              "Ben    Stokes  1974  Male         10             40"
            ]
          },
          "metadata": {
            "tags": []
          },
          "execution_count": 30
        }
      ]
    },
    {
      "cell_type": "code",
      "metadata": {
        "id": "nvt7jjG-LaGD",
        "colab_type": "code",
        "colab": {
          "base_uri": "https://localhost:8080/",
          "height": 111
        },
        "outputId": "95b7e421-1a8b-4b10-8766-7a094c121cad"
      },
      "source": [
        "mdf3.iloc[[0,1], [0, 1]] # Accessing multiple rows and columns together"
      ],
      "execution_count": 32,
      "outputs": [
        {
          "output_type": "execute_result",
          "data": {
            "text/html": [
              "<div>\n",
              "<style scoped>\n",
              "    .dataframe tbody tr th:only-of-type {\n",
              "        vertical-align: middle;\n",
              "    }\n",
              "\n",
              "    .dataframe tbody tr th {\n",
              "        vertical-align: top;\n",
              "    }\n",
              "\n",
              "    .dataframe thead th {\n",
              "        text-align: right;\n",
              "    }\n",
              "</style>\n",
              "<table border=\"1\" class=\"dataframe\">\n",
              "  <thead>\n",
              "    <tr style=\"text-align: right;\">\n",
              "      <th></th>\n",
              "      <th>F Name</th>\n",
              "      <th>DOB</th>\n",
              "    </tr>\n",
              "  </thead>\n",
              "  <tbody>\n",
              "    <tr>\n",
              "      <th>Virat</th>\n",
              "      <td>Kholi</td>\n",
              "      <td>1988</td>\n",
              "    </tr>\n",
              "    <tr>\n",
              "      <th>Ben</th>\n",
              "      <td>Stokes</td>\n",
              "      <td>1974</td>\n",
              "    </tr>\n",
              "  </tbody>\n",
              "</table>\n",
              "</div>"
            ],
            "text/plain": [
              "       F Name   DOB\n",
              "Virat   Kholi  1988\n",
              "Ben    Stokes  1974"
            ]
          },
          "metadata": {
            "tags": []
          },
          "execution_count": 32
        }
      ]
    },
    {
      "cell_type": "code",
      "metadata": {
        "id": "z3gLbYtOLwIc",
        "colab_type": "code",
        "colab": {
          "base_uri": "https://localhost:8080/",
          "height": 111
        },
        "outputId": "78351877-87b5-4e77-c437-5b000ddcd52f"
      },
      "source": [
        "mdf3.loc[[\"Virat\", 'Ben'], ['DOB','Sex']] # Accessing multiple rows and columns together"
      ],
      "execution_count": 33,
      "outputs": [
        {
          "output_type": "execute_result",
          "data": {
            "text/html": [
              "<div>\n",
              "<style scoped>\n",
              "    .dataframe tbody tr th:only-of-type {\n",
              "        vertical-align: middle;\n",
              "    }\n",
              "\n",
              "    .dataframe tbody tr th {\n",
              "        vertical-align: top;\n",
              "    }\n",
              "\n",
              "    .dataframe thead th {\n",
              "        text-align: right;\n",
              "    }\n",
              "</style>\n",
              "<table border=\"1\" class=\"dataframe\">\n",
              "  <thead>\n",
              "    <tr style=\"text-align: right;\">\n",
              "      <th></th>\n",
              "      <th>DOB</th>\n",
              "      <th>Sex</th>\n",
              "    </tr>\n",
              "  </thead>\n",
              "  <tbody>\n",
              "    <tr>\n",
              "      <th>Virat</th>\n",
              "      <td>1988</td>\n",
              "      <td>Male</td>\n",
              "    </tr>\n",
              "    <tr>\n",
              "      <th>Ben</th>\n",
              "      <td>1974</td>\n",
              "      <td>Male</td>\n",
              "    </tr>\n",
              "  </tbody>\n",
              "</table>\n",
              "</div>"
            ],
            "text/plain": [
              "        DOB   Sex\n",
              "Virat  1988  Male\n",
              "Ben    1974  Male"
            ]
          },
          "metadata": {
            "tags": []
          },
          "execution_count": 33
        }
      ]
    },
    {
      "cell_type": "code",
      "metadata": {
        "id": "QSv0IsrgNh0O",
        "colab_type": "code",
        "colab": {
          "base_uri": "https://localhost:8080/",
          "height": 85
        },
        "outputId": "e5f1e469-48ab-445a-d933-e00815f5c5be"
      },
      "source": [
        "mdf3[\"centuries\"] > 20 "
      ],
      "execution_count": 35,
      "outputs": [
        {
          "output_type": "execute_result",
          "data": {
            "text/plain": [
              "Virat      True\n",
              "Ben       False\n",
              "Sachin    False\n",
              "Name: centuries, dtype: bool"
            ]
          },
          "metadata": {
            "tags": []
          },
          "execution_count": 35
        }
      ]
    },
    {
      "cell_type": "code",
      "metadata": {
        "id": "eP2FNyuGNthl",
        "colab_type": "code",
        "colab": {
          "base_uri": "https://localhost:8080/",
          "height": 80
        },
        "outputId": "2a9c08f1-82fd-4441-b52f-3afcd57bcce0"
      },
      "source": [
        "mdf3[mdf3[\"centuries\"] > 20 ] # It will dataframe"
      ],
      "execution_count": 36,
      "outputs": [
        {
          "output_type": "execute_result",
          "data": {
            "text/html": [
              "<div>\n",
              "<style scoped>\n",
              "    .dataframe tbody tr th:only-of-type {\n",
              "        vertical-align: middle;\n",
              "    }\n",
              "\n",
              "    .dataframe tbody tr th {\n",
              "        vertical-align: top;\n",
              "    }\n",
              "\n",
              "    .dataframe thead th {\n",
              "        text-align: right;\n",
              "    }\n",
              "</style>\n",
              "<table border=\"1\" class=\"dataframe\">\n",
              "  <thead>\n",
              "    <tr style=\"text-align: right;\">\n",
              "      <th></th>\n",
              "      <th>F Name</th>\n",
              "      <th>DOB</th>\n",
              "      <th>Sex</th>\n",
              "      <th>centuries</th>\n",
              "      <th>halfcenturies</th>\n",
              "    </tr>\n",
              "  </thead>\n",
              "  <tbody>\n",
              "    <tr>\n",
              "      <th>Virat</th>\n",
              "      <td>Kholi</td>\n",
              "      <td>1988</td>\n",
              "      <td>Male</td>\n",
              "      <td>45</td>\n",
              "      <td>60</td>\n",
              "    </tr>\n",
              "  </tbody>\n",
              "</table>\n",
              "</div>"
            ],
            "text/plain": [
              "      F Name   DOB   Sex  centuries  halfcenturies\n",
              "Virat  Kholi  1988  Male         45             60"
            ]
          },
          "metadata": {
            "tags": []
          },
          "execution_count": 36
        }
      ]
    }
  ]
}