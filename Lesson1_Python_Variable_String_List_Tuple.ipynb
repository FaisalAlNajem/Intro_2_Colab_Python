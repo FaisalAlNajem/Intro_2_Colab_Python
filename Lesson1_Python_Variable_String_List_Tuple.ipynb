{
  "nbformat": 4,
  "nbformat_minor": 0,
  "metadata": {
    "colab": {
      "name": "Lesson1_Python_Variable_String_List_Tuple.ipynb",
      "provenance": [],
      "collapsed_sections": [],
      "include_colab_link": true
    },
    "kernelspec": {
      "name": "python3",
      "display_name": "Python 3"
    }
  },
  "cells": [
    {
      "cell_type": "markdown",
      "metadata": {
        "id": "view-in-github",
        "colab_type": "text"
      },
      "source": [
        "<a href=\"https://colab.research.google.com/github/theclassofai/Intro_2_Colab_Python/blob/master/Lesson1_Python_Variable_String_List_Tuple.ipynb\" target=\"_parent\"><img src=\"https://colab.research.google.com/assets/colab-badge.svg\" alt=\"Open In Colab\"/></a>"
      ]
    },
    {
      "cell_type": "markdown",
      "metadata": {
        "id": "uYozpk5sn5mw",
        "colab_type": "text"
      },
      "source": [
        "# Welcome to The Class of AI\n",
        "---\n",
        "\n",
        "\n",
        "\n",
        "\n",
        "\n"
      ]
    },
    {
      "cell_type": "markdown",
      "metadata": {
        "id": "nKXBG1QaS_5B",
        "colab_type": "text"
      },
      "source": [
        "## Variables and Strings\n",
        "\n",
        "* Variables are used to store values. \n",
        "* A string is a series of characters, surrounded by single or double quotes."
      ]
    },
    {
      "cell_type": "code",
      "metadata": {
        "id": "4R6CIVu2St-4",
        "colab_type": "code",
        "outputId": "dbc0de8f-d193-49d1-9f79-92b2e9a3c49d",
        "colab": {
          "base_uri": "https://localhost:8080/",
          "height": 34
        }
      },
      "source": [
        "print(\"Welcome to The Class of AI!\")"
      ],
      "execution_count": 0,
      "outputs": [
        {
          "output_type": "stream",
          "text": [
            "Welcome to The Class of AI!\n"
          ],
          "name": "stdout"
        }
      ]
    },
    {
      "cell_type": "code",
      "metadata": {
        "id": "UUer2yX5TY_G",
        "colab_type": "code",
        "outputId": "e9112c4f-992d-427f-90c6-fe36b41fc785",
        "colab": {
          "base_uri": "https://localhost:8080/",
          "height": 34
        }
      },
      "source": [
        "msg = \"We are learning Python's basic commands\"\n",
        "print(msg)"
      ],
      "execution_count": 0,
      "outputs": [
        {
          "output_type": "stream",
          "text": [
            "We are learning Python's basic commands\n"
          ],
          "name": "stdout"
        }
      ]
    },
    {
      "cell_type": "code",
      "metadata": {
        "id": "5QezQ7tyTii3",
        "colab_type": "code",
        "outputId": "c8361f3e-2a16-46b8-852b-2dc53dad27af",
        "colab": {
          "base_uri": "https://localhost:8080/",
          "height": 34
        }
      },
      "source": [
        "first_msg = \"Welcome to The Class of AI. \"\n",
        "second_msg = \"AI is some times called machine intelligence\"\n",
        "\n",
        "final_msg = first_msg + second_msg\n",
        "print(final_msg)"
      ],
      "execution_count": 0,
      "outputs": [
        {
          "output_type": "stream",
          "text": [
            "Welcome to The Class of AI. AI is some times called machine intelligence\n"
          ],
          "name": "stdout"
        }
      ]
    },
    {
      "cell_type": "markdown",
      "metadata": {
        "id": "J0mfdz3lUNuW",
        "colab_type": "text"
      },
      "source": [
        "## List\n",
        "\n",
        "A list stores a series of items in a particular order. You access items using an index, or within a loop."
      ]
    },
    {
      "cell_type": "code",
      "metadata": {
        "id": "y26VYKGZUaHP",
        "colab_type": "code",
        "outputId": "5edc7542-606f-479f-c434-070edb26db86",
        "colab": {
          "base_uri": "https://localhost:8080/",
          "height": 34
        }
      },
      "source": [
        "cars = ['bmw', 'audi', 'toyota', 'tesla']\n",
        "print(cars)"
      ],
      "execution_count": 0,
      "outputs": [
        {
          "output_type": "stream",
          "text": [
            "['bmw', 'audi', 'toyota', 'tesla']\n"
          ],
          "name": "stdout"
        }
      ]
    },
    {
      "cell_type": "code",
      "metadata": {
        "id": "1Lg1b_XkUqPS",
        "colab_type": "code",
        "outputId": "eebfe8fd-2b33-4fd3-eeb3-357c55ad502c",
        "colab": {
          "base_uri": "https://localhost:8080/",
          "height": 34
        }
      },
      "source": [
        "# Get the first item of the list\n",
        "cars[0]"
      ],
      "execution_count": 0,
      "outputs": [
        {
          "output_type": "execute_result",
          "data": {
            "text/plain": [
              "'bmw'"
            ]
          },
          "metadata": {
            "tags": []
          },
          "execution_count": 7
        }
      ]
    },
    {
      "cell_type": "code",
      "metadata": {
        "id": "WyoiOkvxUx7c",
        "colab_type": "code",
        "outputId": "3d7e8112-a8e1-4f4d-f43e-fe5fdfafaf78",
        "colab": {
          "base_uri": "https://localhost:8080/",
          "height": 34
        }
      },
      "source": [
        "# Get the last item of the list\n",
        "cars[-1]"
      ],
      "execution_count": 0,
      "outputs": [
        {
          "output_type": "execute_result",
          "data": {
            "text/plain": [
              "'tesla'"
            ]
          },
          "metadata": {
            "tags": []
          },
          "execution_count": 8
        }
      ]
    },
    {
      "cell_type": "code",
      "metadata": {
        "id": "CYBrpRoxU1P5",
        "colab_type": "code",
        "outputId": "f7bd9a58-2a7a-4371-b42f-8fedaa65047a",
        "colab": {
          "base_uri": "https://localhost:8080/",
          "height": 85
        }
      },
      "source": [
        "# Looping through a list\n",
        "for car in cars:\n",
        "  print(car) "
      ],
      "execution_count": 0,
      "outputs": [
        {
          "output_type": "stream",
          "text": [
            "bmw\n",
            "audi\n",
            "toyota\n",
            "tesla\n"
          ],
          "name": "stdout"
        }
      ]
    },
    {
      "cell_type": "code",
      "metadata": {
        "id": "PBY8YHAmVBBF",
        "colab_type": "code",
        "outputId": "b69db20d-75c3-458a-c073-9dede07dccc5",
        "colab": {
          "base_uri": "https://localhost:8080/",
          "height": 68
        }
      },
      "source": [
        "# Adding item to a list\n",
        "\n",
        "bikes = []\n",
        "print(bikes) \n",
        "\n",
        "bikes.append('Royal Enfield')\n",
        "bikes.append(['Yamaha', 'Kawasaki'])\n",
        "print(bikes)\n",
        "\n",
        "print(bikes[1][0])"
      ],
      "execution_count": 0,
      "outputs": [
        {
          "output_type": "stream",
          "text": [
            "[]\n",
            "['Royal Enfield', ['Yamaha', 'Kawasaki']]\n",
            "Yamaha\n"
          ],
          "name": "stdout"
        }
      ]
    },
    {
      "cell_type": "code",
      "metadata": {
        "id": "U9krFsViWdDR",
        "colab_type": "code",
        "outputId": "6d814a44-00e1-464b-dc73-0723b8dcbfa1",
        "colab": {
          "base_uri": "https://localhost:8080/",
          "height": 34
        }
      },
      "source": [
        "# Making Numerical List\n",
        "power = []\n",
        "for x in range(1,10):\n",
        "  power.append(x**2)\n",
        "\n",
        "print(power)"
      ],
      "execution_count": 0,
      "outputs": [
        {
          "output_type": "stream",
          "text": [
            "[1, 4, 9, 16, 25, 36, 49, 64, 81]\n"
          ],
          "name": "stdout"
        }
      ]
    },
    {
      "cell_type": "code",
      "metadata": {
        "id": "vwoQYiHrW6h2",
        "colab_type": "code",
        "outputId": "225dc849-0b8a-4299-8718-52211b231c65",
        "colab": {
          "base_uri": "https://localhost:8080/",
          "height": 34
        }
      },
      "source": [
        "power = []\n",
        "power = [x**3 for x in range(1,15)]\n",
        "print(power)"
      ],
      "execution_count": 0,
      "outputs": [
        {
          "output_type": "stream",
          "text": [
            "[1, 8, 27, 64, 125, 216, 343, 512, 729, 1000, 1331, 1728, 2197, 2744]\n"
          ],
          "name": "stdout"
        }
      ]
    },
    {
      "cell_type": "code",
      "metadata": {
        "id": "t-TkSH_0Xj_8",
        "colab_type": "code",
        "outputId": "ccf14412-269e-4a7e-c9c4-48820b454d02",
        "colab": {
          "base_uri": "https://localhost:8080/",
          "height": 34
        }
      },
      "source": [
        "# Slicing a list\n",
        "\n",
        "power[:3]"
      ],
      "execution_count": 0,
      "outputs": [
        {
          "output_type": "execute_result",
          "data": {
            "text/plain": [
              "[1, 8, 27]"
            ]
          },
          "metadata": {
            "tags": []
          },
          "execution_count": 31
        }
      ]
    },
    {
      "cell_type": "code",
      "metadata": {
        "id": "-xAGWu6TX_vE",
        "colab_type": "code",
        "outputId": "ed970576-a954-4689-90c3-7cf1046ee430",
        "colab": {
          "base_uri": "https://localhost:8080/",
          "height": 34
        }
      },
      "source": [
        "# Copy a list\n",
        "power_copy = power[:]\n",
        "print(power_copy)"
      ],
      "execution_count": 0,
      "outputs": [
        {
          "output_type": "stream",
          "text": [
            "[1, 8, 27, 64, 125, 216, 343, 512, 729, 1000, 1331, 1728, 2197, 2744]\n"
          ],
          "name": "stdout"
        }
      ]
    },
    {
      "cell_type": "markdown",
      "metadata": {
        "id": "k0NZTNztYQQh",
        "colab_type": "text"
      },
      "source": [
        "## Tuples\n",
        "Tuples are similar to list but the items in a tuple can't be modified. But there is a workaround. You can convert the tuple into a list, change the list, and convert the list back into a tuple. Once a tuple is created, you cannot add items to it. Tuples are unchangeable.\n"
      ]
    },
    {
      "cell_type": "code",
      "metadata": {
        "id": "Q74vnBojYdCI",
        "colab_type": "code",
        "outputId": "2efb574b-0b9d-4923-ccb8-6d367382b4ac",
        "colab": {
          "base_uri": "https://localhost:8080/",
          "height": 34
        }
      },
      "source": [
        "dim = (2,3)\n",
        "print(dim)"
      ],
      "execution_count": 0,
      "outputs": [
        {
          "output_type": "stream",
          "text": [
            "(2, 3)\n"
          ],
          "name": "stdout"
        }
      ]
    },
    {
      "cell_type": "code",
      "metadata": {
        "id": "2OxoSyQBYvSt",
        "colab_type": "code",
        "outputId": "8e39fca2-be7b-4f6d-d39f-aafe84f8e220",
        "colab": {
          "base_uri": "https://localhost:8080/",
          "height": 34
        }
      },
      "source": [
        "thistuple = (\"apple\", \"banana\", \"cherry\")\n",
        "print(thistuple)"
      ],
      "execution_count": 0,
      "outputs": [
        {
          "output_type": "stream",
          "text": [
            "('apple', 'banana', 'cherry')\n"
          ],
          "name": "stdout"
        }
      ]
    },
    {
      "cell_type": "code",
      "metadata": {
        "id": "BkpV5SpmY26K",
        "colab_type": "code",
        "outputId": "badf235f-8a90-414c-f226-c3a460280177",
        "colab": {
          "base_uri": "https://localhost:8080/",
          "height": 34
        }
      },
      "source": [
        "thistuple = (\"apple\", \"banana\", \"cherry\")\n",
        "print(thistuple[1])"
      ],
      "execution_count": 0,
      "outputs": [
        {
          "output_type": "stream",
          "text": [
            "banana\n"
          ],
          "name": "stdout"
        }
      ]
    },
    {
      "cell_type": "code",
      "metadata": {
        "id": "YOIS-DQoZM9Q",
        "colab_type": "code",
        "outputId": "c9d3e8bc-9606-4d23-fb52-8b920f4a96ab",
        "colab": {
          "base_uri": "https://localhost:8080/",
          "height": 34
        }
      },
      "source": [
        "# Now let's change tuple to list\n",
        "x = list(thistuple)\n",
        "x[1] = 'mango'\n",
        "print(x)"
      ],
      "execution_count": 0,
      "outputs": [
        {
          "output_type": "stream",
          "text": [
            "['apple', 'mango', 'cherry']\n"
          ],
          "name": "stdout"
        }
      ]
    }
  ]
}