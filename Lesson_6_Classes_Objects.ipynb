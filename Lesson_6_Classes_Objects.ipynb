{
  "nbformat": 4,
  "nbformat_minor": 0,
  "metadata": {
    "colab": {
      "name": "Lesson_6_Classes_Objects.ipynb",
      "provenance": [],
      "collapsed_sections": [],
      "include_colab_link": true
    },
    "kernelspec": {
      "name": "python3",
      "display_name": "Python 3"
    }
  },
  "cells": [
    {
      "cell_type": "markdown",
      "metadata": {
        "id": "view-in-github",
        "colab_type": "text"
      },
      "source": [
        "<a href=\"https://colab.research.google.com/github/theclassofai/Intro_2_Colab_Python/blob/master/Lesson_6_Classes_Objects.ipynb\" target=\"_parent\"><img src=\"https://colab.research.google.com/assets/colab-badge.svg\" alt=\"Open In Colab\"/></a>"
      ]
    },
    {
      "cell_type": "markdown",
      "metadata": {
        "id": "nnq1MRG7Q1lv",
        "colab_type": "text"
      },
      "source": [
        "# Python Classes/Objects\n",
        "\n",
        "Python is an object oriented programming language. Almost everything in Python is an object, with its properties and methods.\n",
        "A Class is like an object constructor, or a \"blueprint\" for creating objects.\n",
        "\n",
        "For example: ![Classes and Objects](http://knowledgehills.com/content/images/OOP/OOP-Classes-Objects.PNG). //\n",
        "\n",
        "Ref: http://knowledgehills.com/python/python-classes-objects.htm\n",
        "\n",
        "Following are some more terms that you would need to know  about Python classes/objects:\n",
        "\n",
        "1. A **variable** that is defined inside a method of a class and can be accessed only by the instance of that class are called instance variable.\n",
        "2. If you derive a class from another class such that it has all the characteristics of the parent class is called **Inheritance**.\n",
        "3. An object of a class is also known as an **instance**.\n",
        "4. When you create an instance of a class it is called **instantiation**.\n",
        "5. A function that is part of class definition is known as a **method**"
      ]
    },
    {
      "cell_type": "markdown",
      "metadata": {
        "id": "mw7ycWVkT3B0",
        "colab_type": "text"
      },
      "source": [
        "### Create a Class\n",
        "To create a class, use the keyword `class`:\n",
        "\n"
      ]
    },
    {
      "cell_type": "code",
      "metadata": {
        "id": "jTU-EG4NQo2A",
        "colab_type": "code",
        "colab": {}
      },
      "source": [
        "# Example: Create a class named MyClass, with a property named x:\n",
        "\n",
        "class MyfirstClass:\n",
        "  a = 10"
      ],
      "execution_count": 0,
      "outputs": []
    },
    {
      "cell_type": "markdown",
      "metadata": {
        "id": "1skHk662UJQ3",
        "colab_type": "text"
      },
      "source": [
        "### Create Object\n",
        "Now we can use the class named myClass to create objects:"
      ]
    },
    {
      "cell_type": "code",
      "metadata": {
        "id": "VLoCjOlGUIFZ",
        "colab_type": "code",
        "colab": {
          "base_uri": "https://localhost:8080/",
          "height": 34
        },
        "outputId": "bb41d9fd-dceb-44eb-a0aa-45e40dcf5d0c"
      },
      "source": [
        "# Example: Create an object named o1, and print the value of a:\n",
        "\n",
        "o1 = MyfirstClass()\n",
        "print(o1.a)"
      ],
      "execution_count": 3,
      "outputs": [
        {
          "output_type": "stream",
          "text": [
            "10\n"
          ],
          "name": "stdout"
        }
      ]
    },
    {
      "cell_type": "markdown",
      "metadata": {
        "id": "PQ4hN_tnWlnt",
        "colab_type": "text"
      },
      "source": [
        "### The __init__() Function\n",
        "\n",
        "We have to understand the built-in __init__() function.\n",
        "\n",
        "All classes have a function called __init__(), which is always executed when the class is being initiated (i.e. when you creat an object).\n",
        "\n",
        "Use the __init__() function to assign values to object properties, or other operations that are necessary to do when the object is being created.\n",
        "\n",
        "Note: The __init__() function is called automatically every time the class is being used to create a new object."
      ]
    },
    {
      "cell_type": "code",
      "metadata": {
        "id": "kV2DAGVET99G",
        "colab_type": "code",
        "colab": {
          "base_uri": "https://localhost:8080/",
          "height": 51
        },
        "outputId": "3916b1dd-9421-4055-a3fd-4e51fdfbd13d"
      },
      "source": [
        "# Example: Create a class named Car, use the __init__() function to assign values for brand and model:\n",
        "\n",
        "class Car:\n",
        "  def __init__(self, brand, model):\n",
        "    self.brand = brand\n",
        "    self.model = model\n",
        "\n",
        "o1 = Car(\"BMW\", '320d')\n",
        "\n",
        "print(o1.brand)\n",
        "print(o1.model)"
      ],
      "execution_count": 4,
      "outputs": [
        {
          "output_type": "stream",
          "text": [
            "BMW\n",
            "320d\n"
          ],
          "name": "stdout"
        }
      ]
    },
    {
      "cell_type": "markdown",
      "metadata": {
        "id": "RZTSNNcmXpca",
        "colab_type": "text"
      },
      "source": [
        "### Object Methods\n",
        "\n",
        "Objects can also contain methods. Methods in objects are functions that belong to the object.\n",
        "\n",
        "Let us create a method in the `Car` class:"
      ]
    },
    {
      "cell_type": "code",
      "metadata": {
        "id": "ZZ8GbnkGX0rI",
        "colab_type": "code",
        "colab": {
          "base_uri": "https://localhost:8080/",
          "height": 34
        },
        "outputId": "216a31f0-57d6-4b1e-f9df-3b4a92ce71cd"
      },
      "source": [
        "# Example: Insert a function that prints a greeting, and execute it on the o1 object:\n",
        "\n",
        "class Car:\n",
        "  def __init__(self, brand, model):\n",
        "    self.brand = brand\n",
        "    self.model = model\n",
        "\n",
        "  def greet(self):\n",
        "    print(\"Hello my name is \" + self.brand + \" and I am \" + self.model)\n",
        "\n",
        "o1 = Car(\"BMW\", '320d')\n",
        "o1.greet()"
      ],
      "execution_count": 9,
      "outputs": [
        {
          "output_type": "stream",
          "text": [
            "Hello my name is BMW and I am 320d\n"
          ],
          "name": "stdout"
        }
      ]
    },
    {
      "cell_type": "markdown",
      "metadata": {
        "id": "Yis3JdYQYoSO",
        "colab_type": "text"
      },
      "source": [
        "### The self Parameter\n",
        "The self parameter is a reference to the current instance of the class, and is used to access variables that belongs to the class.\n",
        "\n",
        "It does not have to be named self , you can call it whatever you like, but it has to be the first parameter of any function in the class:"
      ]
    },
    {
      "cell_type": "code",
      "metadata": {
        "id": "XPaUw7nIYsB_",
        "colab_type": "code",
        "colab": {
          "base_uri": "https://localhost:8080/",
          "height": 34
        },
        "outputId": "77d37cdc-1add-491a-83c4-39c440bd788d"
      },
      "source": [
        "# Example: Use the words selfnew and abc instead of self:\n",
        "\n",
        "class Car:\n",
        "  def __init__(selfnew, brand, model):\n",
        "    selfnew.brand = brand\n",
        "    selfnew.model = model\n",
        "\n",
        "  def greet(abc):\n",
        "    print(\"Hello my name is \" + abc.brand + \" and I am \" + abc.model)\n",
        "\n",
        "o1 = Car(\"BMW\", '320d')\n",
        "o1.greet()"
      ],
      "execution_count": 11,
      "outputs": [
        {
          "output_type": "stream",
          "text": [
            "Hello my name is BMW and I am 320d\n"
          ],
          "name": "stdout"
        }
      ]
    },
    {
      "cell_type": "markdown",
      "metadata": {
        "id": "76b8i10qZXX8",
        "colab_type": "text"
      },
      "source": [
        "### Modify Object Properties\n",
        "You can modify properties on objects like this:"
      ]
    },
    {
      "cell_type": "code",
      "metadata": {
        "id": "Q32eUhsRZb-G",
        "colab_type": "code",
        "colab": {
          "base_uri": "https://localhost:8080/",
          "height": 34
        },
        "outputId": "3db2eea3-4683-4298-e709-e3ba261858e4"
      },
      "source": [
        "# Set the model of o1 to 520d:\n",
        "\n",
        "o1.model = '520d'\n",
        "o1.greet()"
      ],
      "execution_count": 13,
      "outputs": [
        {
          "output_type": "stream",
          "text": [
            "Hello my name is BMW and I am 520d\n"
          ],
          "name": "stdout"
        }
      ]
    },
    {
      "cell_type": "markdown",
      "metadata": {
        "id": "ovKhK2QSdEz5",
        "colab_type": "text"
      },
      "source": [
        "### Delete Object Properties\n",
        "You can delete properties on objects by using the del keyword:\n",
        "\n"
      ]
    },
    {
      "cell_type": "code",
      "metadata": {
        "id": "8w7jryhmdHhk",
        "colab_type": "code",
        "colab": {}
      },
      "source": [
        "# Example: Delete the model property from the o1 object:\n",
        "\n",
        "del o1.model"
      ],
      "execution_count": 0,
      "outputs": []
    },
    {
      "cell_type": "code",
      "metadata": {
        "id": "MnEsFMd6dN8s",
        "colab_type": "code",
        "colab": {
          "base_uri": "https://localhost:8080/",
          "height": 283
        },
        "outputId": "091fa01f-fda1-4732-df76-7e6a85f3f2fe"
      },
      "source": [
        "o1.greet()"
      ],
      "execution_count": 15,
      "outputs": [
        {
          "output_type": "error",
          "ename": "AttributeError",
          "evalue": "ignored",
          "traceback": [
            "\u001b[0;31m---------------------------------------------------------------------------\u001b[0m",
            "\u001b[0;31mAttributeError\u001b[0m                            Traceback (most recent call last)",
            "\u001b[0;32m<ipython-input-15-63bcff768434>\u001b[0m in \u001b[0;36m<module>\u001b[0;34m()\u001b[0m\n\u001b[0;32m----> 1\u001b[0;31m \u001b[0mo1\u001b[0m\u001b[0;34m.\u001b[0m\u001b[0mgreet\u001b[0m\u001b[0;34m(\u001b[0m\u001b[0;34m)\u001b[0m\u001b[0;34m\u001b[0m\u001b[0;34m\u001b[0m\u001b[0m\n\u001b[0m",
            "\u001b[0;32m<ipython-input-11-ecc4dee98bca>\u001b[0m in \u001b[0;36mgreet\u001b[0;34m(abc)\u001b[0m\n\u001b[1;32m      6\u001b[0m \u001b[0;34m\u001b[0m\u001b[0m\n\u001b[1;32m      7\u001b[0m   \u001b[0;32mdef\u001b[0m \u001b[0mgreet\u001b[0m\u001b[0;34m(\u001b[0m\u001b[0mabc\u001b[0m\u001b[0;34m)\u001b[0m\u001b[0;34m:\u001b[0m\u001b[0;34m\u001b[0m\u001b[0;34m\u001b[0m\u001b[0m\n\u001b[0;32m----> 8\u001b[0;31m     \u001b[0mprint\u001b[0m\u001b[0;34m(\u001b[0m\u001b[0;34m\"Hello my name is \"\u001b[0m \u001b[0;34m+\u001b[0m \u001b[0mabc\u001b[0m\u001b[0;34m.\u001b[0m\u001b[0mbrand\u001b[0m \u001b[0;34m+\u001b[0m \u001b[0;34m\" and I am \"\u001b[0m \u001b[0;34m+\u001b[0m \u001b[0mabc\u001b[0m\u001b[0;34m.\u001b[0m\u001b[0mmodel\u001b[0m\u001b[0;34m)\u001b[0m\u001b[0;34m\u001b[0m\u001b[0;34m\u001b[0m\u001b[0m\n\u001b[0m\u001b[1;32m      9\u001b[0m \u001b[0;34m\u001b[0m\u001b[0m\n\u001b[1;32m     10\u001b[0m \u001b[0mo1\u001b[0m \u001b[0;34m=\u001b[0m \u001b[0mCar\u001b[0m\u001b[0;34m(\u001b[0m\u001b[0;34m\"BMW\"\u001b[0m\u001b[0;34m,\u001b[0m \u001b[0;34m'320d'\u001b[0m\u001b[0;34m)\u001b[0m\u001b[0;34m\u001b[0m\u001b[0;34m\u001b[0m\u001b[0m\n",
            "\u001b[0;31mAttributeError\u001b[0m: 'Car' object has no attribute 'model'"
          ]
        }
      ]
    },
    {
      "cell_type": "markdown",
      "metadata": {
        "id": "jiT4Nb1kdUoG",
        "colab_type": "text"
      },
      "source": [
        "### Delete Objects\n",
        "You can delete objects by using the `del` keyword:\n",
        "\n"
      ]
    },
    {
      "cell_type": "code",
      "metadata": {
        "id": "riKLqwrAdaGs",
        "colab_type": "code",
        "colab": {}
      },
      "source": [
        "# Example: Delete the o1 object:\n",
        "\n",
        "del o1"
      ],
      "execution_count": 0,
      "outputs": []
    },
    {
      "cell_type": "code",
      "metadata": {
        "id": "BXChjTH1di2v",
        "colab_type": "code",
        "colab": {
          "base_uri": "https://localhost:8080/",
          "height": 164
        },
        "outputId": "c6105a00-c38c-4bd0-b9cc-da56ab333022"
      },
      "source": [
        "o1.greet()"
      ],
      "execution_count": 17,
      "outputs": [
        {
          "output_type": "error",
          "ename": "NameError",
          "evalue": "ignored",
          "traceback": [
            "\u001b[0;31m---------------------------------------------------------------------------\u001b[0m",
            "\u001b[0;31mNameError\u001b[0m                                 Traceback (most recent call last)",
            "\u001b[0;32m<ipython-input-17-63bcff768434>\u001b[0m in \u001b[0;36m<module>\u001b[0;34m()\u001b[0m\n\u001b[0;32m----> 1\u001b[0;31m \u001b[0mo1\u001b[0m\u001b[0;34m.\u001b[0m\u001b[0mgreet\u001b[0m\u001b[0;34m(\u001b[0m\u001b[0;34m)\u001b[0m\u001b[0;34m\u001b[0m\u001b[0;34m\u001b[0m\u001b[0m\n\u001b[0m",
            "\u001b[0;31mNameError\u001b[0m: name 'o1' is not defined"
          ]
        }
      ]
    },
    {
      "cell_type": "markdown",
      "metadata": {
        "id": "zrI0Alg_dmiG",
        "colab_type": "text"
      },
      "source": [
        "### The pass Statement\n",
        "class definitions cannot be empty, but if you for some reason have a class definition with no content, put in the `pass` statement to avoid getting an error.\n",
        "\n"
      ]
    },
    {
      "cell_type": "code",
      "metadata": {
        "id": "D9fLkiNjdqCX",
        "colab_type": "code",
        "colab": {}
      },
      "source": [
        "# Example\n",
        "class Football:\n",
        "  pass"
      ],
      "execution_count": 0,
      "outputs": []
    },
    {
      "cell_type": "code",
      "metadata": {
        "id": "QAZazfmUdxkT",
        "colab_type": "code",
        "colab": {}
      },
      "source": [
        "del Football"
      ],
      "execution_count": 0,
      "outputs": []
    },
    {
      "cell_type": "code",
      "metadata": {
        "id": "UO_IfShvd3e9",
        "colab_type": "code",
        "colab": {
          "base_uri": "https://localhost:8080/",
          "height": 130
        },
        "outputId": "626eaf0c-ba99-4cab-ad11-665ed4f5532e"
      },
      "source": [
        "# Example\n",
        "class Football:\n",
        "  "
      ],
      "execution_count": 22,
      "outputs": [
        {
          "output_type": "error",
          "ename": "SyntaxError",
          "evalue": "ignored",
          "traceback": [
            "\u001b[0;36m  File \u001b[0;32m\"<ipython-input-22-84c19e40e3f5>\"\u001b[0;36m, line \u001b[0;32m2\u001b[0m\n\u001b[0;31m    \u001b[0m\n\u001b[0m    ^\u001b[0m\n\u001b[0;31mSyntaxError\u001b[0m\u001b[0;31m:\u001b[0m unexpected EOF while parsing\n"
          ]
        }
      ]
    }
  ]
}