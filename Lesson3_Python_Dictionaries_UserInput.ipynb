{
  "nbformat": 4,
  "nbformat_minor": 0,
  "metadata": {
    "colab": {
      "name": "Lesson3_Python_Dictionaries_UserInput.ipynb",
      "provenance": [],
      "collapsed_sections": [],
      "include_colab_link": true
    },
    "kernelspec": {
      "name": "python3",
      "display_name": "Python 3"
    }
  },
  "cells": [
    {
      "cell_type": "markdown",
      "metadata": {
        "id": "view-in-github",
        "colab_type": "text"
      },
      "source": [
        "<a href=\"https://colab.research.google.com/github/theclassofai/Intro_2_Colab_Python/blob/master/Lesson3_Python_Dictionaries_UserInput.ipynb\" target=\"_parent\"><img src=\"https://colab.research.google.com/assets/colab-badge.svg\" alt=\"Open In Colab\"/></a>"
      ]
    },
    {
      "cell_type": "markdown",
      "metadata": {
        "id": "NNHeiISR9V_u",
        "colab_type": "text"
      },
      "source": [
        "# Dictionaries\n",
        "Dictionaries store connections between pieces of information. Each item in a dictionary is a key-value pair."
      ]
    },
    {
      "cell_type": "code",
      "metadata": {
        "id": "xe35ehxC9DeT",
        "colab_type": "code",
        "outputId": "d5f8f5c6-5574-4463-fbb0-309a3a4c34cf",
        "colab": {
          "base_uri": "https://localhost:8080/",
          "height": 34
        }
      },
      "source": [
        "# A simple dictionary \n",
        "bmw5series = {\n",
        "    'color': 'grey',\n",
        "    'doors': 5\n",
        "    }\n",
        "print(bmw5series)"
      ],
      "execution_count": 1,
      "outputs": [
        {
          "output_type": "stream",
          "text": [
            "{'color': 'grey', 'doors': 5}\n"
          ],
          "name": "stdout"
        }
      ]
    },
    {
      "cell_type": "code",
      "metadata": {
        "id": "QXRqXl-v9vHO",
        "colab_type": "code",
        "outputId": "4d794b44-61bd-4ff1-fe55-980de05023e0",
        "colab": {
          "base_uri": "https://localhost:8080/",
          "height": 34
        }
      },
      "source": [
        "# Accessing values\n",
        "print(\"The bmw color is \" + bmw5series['color'])"
      ],
      "execution_count": 2,
      "outputs": [
        {
          "output_type": "stream",
          "text": [
            "The bmw color is grey\n"
          ],
          "name": "stdout"
        }
      ]
    },
    {
      "cell_type": "code",
      "metadata": {
        "id": "oOKqbUq7-0Qn",
        "colab_type": "code",
        "outputId": "b454deef-da77-4567-aada-956f00a20fbc",
        "colab": {
          "base_uri": "https://localhost:8080/",
          "height": 34
        }
      },
      "source": [
        "# Use get function\n",
        "bmw5series.get(\"doors\")"
      ],
      "execution_count": 3,
      "outputs": [
        {
          "output_type": "execute_result",
          "data": {
            "text/plain": [
              "5"
            ]
          },
          "metadata": {
            "tags": []
          },
          "execution_count": 3
        }
      ]
    },
    {
      "cell_type": "code",
      "metadata": {
        "id": "NvuPTwYl9_Fb",
        "colab_type": "code",
        "outputId": "b286e857-282e-461d-c6ca-fbe35f513f49",
        "colab": {
          "base_uri": "https://localhost:8080/",
          "height": 34
        }
      },
      "source": [
        "# Adding new key value-pair\n",
        "bmw5series['fuel'] = 'disel'\n",
        "print(bmw5series)"
      ],
      "execution_count": 4,
      "outputs": [
        {
          "output_type": "stream",
          "text": [
            "{'color': 'grey', 'doors': 5, 'fuel': 'disel'}\n"
          ],
          "name": "stdout"
        }
      ]
    },
    {
      "cell_type": "code",
      "metadata": {
        "id": "9GC50rSG_Bdm",
        "colab_type": "code",
        "outputId": "2aa415c7-2052-4bc0-ee15-c231ee056988",
        "colab": {
          "base_uri": "https://localhost:8080/",
          "height": 68
        }
      },
      "source": [
        "# loop through dictionary\n",
        "for x in bmw5series:\n",
        "  print(bmw5series[x])"
      ],
      "execution_count": 5,
      "outputs": [
        {
          "output_type": "stream",
          "text": [
            "grey\n",
            "5\n",
            "disel\n"
          ],
          "name": "stdout"
        }
      ]
    },
    {
      "cell_type": "code",
      "metadata": {
        "id": "Yg8D93nlDfGQ",
        "colab_type": "code",
        "outputId": "a913c2cd-034c-424c-d817-3c85b3cbf741",
        "colab": {
          "base_uri": "https://localhost:8080/",
          "height": 68
        }
      },
      "source": [
        "# use value function\n",
        "for x in bmw5series.values():\n",
        "  print(x)"
      ],
      "execution_count": 6,
      "outputs": [
        {
          "output_type": "stream",
          "text": [
            "grey\n",
            "5\n",
            "disel\n"
          ],
          "name": "stdout"
        }
      ]
    },
    {
      "cell_type": "code",
      "metadata": {
        "id": "0IKXUgSgDmGn",
        "colab_type": "code",
        "outputId": "1d7ec9ce-747c-4c7a-f924-fd1abff8c511",
        "colab": {
          "base_uri": "https://localhost:8080/",
          "height": 68
        }
      },
      "source": [
        "# Loop through both keys and values, by using the items() function:\n",
        "for x, y in bmw5series.items():\n",
        "  print(x, y)"
      ],
      "execution_count": 7,
      "outputs": [
        {
          "output_type": "stream",
          "text": [
            "color grey\n",
            "doors 5\n",
            "fuel disel\n"
          ],
          "name": "stdout"
        }
      ]
    },
    {
      "cell_type": "code",
      "metadata": {
        "id": "Y7EYdXHVESpa",
        "colab_type": "code",
        "outputId": "adca84dc-6c8f-406d-ac0a-6dd2a27093de",
        "colab": {
          "base_uri": "https://localhost:8080/",
          "height": 34
        }
      },
      "source": [
        "# The pop() method removes the item with the specified key name:\n",
        "bmw5series.pop(\"fuel\")\n",
        "print(bmw5series)"
      ],
      "execution_count": 8,
      "outputs": [
        {
          "output_type": "stream",
          "text": [
            "{'color': 'grey', 'doors': 5}\n"
          ],
          "name": "stdout"
        }
      ]
    },
    {
      "cell_type": "markdown",
      "metadata": {
        "id": "AHLARIqZW6js",
        "colab_type": "text"
      },
      "source": [
        "# User's Input\n",
        "\n",
        "Your programs can prompt the user for input. All input is stored as a string."
      ]
    },
    {
      "cell_type": "code",
      "metadata": {
        "id": "FPSIQW-VXFep",
        "colab_type": "code",
        "outputId": "07bbeb9b-1251-4adf-d998-f4fcfe12682b",
        "colab": {
          "base_uri": "https://localhost:8080/",
          "height": 51
        }
      },
      "source": [
        "name = input(\"What's your name? \")\n",
        "print(\"Hello, \" + name + \"!\")"
      ],
      "execution_count": 9,
      "outputs": [
        {
          "output_type": "stream",
          "text": [
            "What's your name? The class of AI\n",
            "Hello, The class of AI!\n"
          ],
          "name": "stdout"
        }
      ]
    },
    {
      "cell_type": "code",
      "metadata": {
        "id": "ZQeQreinXM-g",
        "colab_type": "code",
        "outputId": "f40e6c5f-df1e-4e54-9942-2dade60cab58",
        "colab": {
          "base_uri": "https://localhost:8080/",
          "height": 34
        }
      },
      "source": [
        "# Prompting for numerical input\n",
        "age = input(\"How old are you? \")\n",
        "age = int(age)"
      ],
      "execution_count": 10,
      "outputs": [
        {
          "output_type": "stream",
          "text": [
            "How old are you? 18\n"
          ],
          "name": "stdout"
        }
      ]
    },
    {
      "cell_type": "code",
      "metadata": {
        "id": "FcVT57JLXV3s",
        "colab_type": "code",
        "outputId": "be5ee54b-0464-4383-970e-ea071756635b",
        "colab": {
          "base_uri": "https://localhost:8080/",
          "height": 34
        }
      },
      "source": [
        "# Prompting for numerical input with decimals\n",
        "pi = input(\"What's the value of pi? \")\n",
        "pi = float(pi)"
      ],
      "execution_count": 11,
      "outputs": [
        {
          "output_type": "stream",
          "text": [
            "What's the value of pi? 3.14\n"
          ],
          "name": "stdout"
        }
      ]
    }
  ]
}