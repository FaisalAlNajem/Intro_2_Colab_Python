{
  "nbformat": 4,
  "nbformat_minor": 0,
  "metadata": {
    "colab": {
      "name": "Lesson3_Python_Dictionaries_UserInput.ipynb",
      "provenance": [],
      "collapsed_sections": [],
      "include_colab_link": true
    },
    "kernelspec": {
      "name": "python3",
      "display_name": "Python 3"
    }
  },
  "cells": [
    {
      "cell_type": "markdown",
      "metadata": {
        "id": "view-in-github",
        "colab_type": "text"
      },
      "source": [
        "<a href=\"https://colab.research.google.com/github/theclassofai/Intro_2_Colab_Python/blob/master/Lesson3_Python_Dictionaries_UserInput.ipynb\" target=\"_parent\"><img src=\"https://colab.research.google.com/assets/colab-badge.svg\" alt=\"Open In Colab\"/></a>"
      ]
    },
    {
      "cell_type": "markdown",
      "metadata": {
        "id": "NNHeiISR9V_u",
        "colab_type": "text"
      },
      "source": [
        "# Dictionaries\n",
        "Dictionaries store connections between pieces of information. Each item in a dictionary is a key-value pair."
      ]
    },
    {
      "cell_type": "code",
      "metadata": {
        "id": "xe35ehxC9DeT",
        "colab_type": "code",
        "outputId": "ed859097-bf7c-4bad-94c7-dc60029f7108",
        "colab": {
          "base_uri": "https://localhost:8080/",
          "height": 34
        }
      },
      "source": [
        "# A simple dictionary \n",
        "bmw5series = {\n",
        "    'color': 'grey',\n",
        "    'doors': 5\n",
        "    }\n",
        "print(bmw5series)"
      ],
      "execution_count": 0,
      "outputs": [
        {
          "output_type": "stream",
          "text": [
            "{'color': 'grey', 'doors': 5}\n"
          ],
          "name": "stdout"
        }
      ]
    },
    {
      "cell_type": "code",
      "metadata": {
        "id": "QXRqXl-v9vHO",
        "colab_type": "code",
        "outputId": "1aacc7da-cd56-40c2-ca68-3cc9b83627f7",
        "colab": {
          "base_uri": "https://localhost:8080/",
          "height": 34
        }
      },
      "source": [
        "# Accessing values\n",
        "print(\"The bmw color is \" + bmw5series['color'])"
      ],
      "execution_count": 0,
      "outputs": [
        {
          "output_type": "stream",
          "text": [
            "The bmw color is grey\n"
          ],
          "name": "stdout"
        }
      ]
    },
    {
      "cell_type": "code",
      "metadata": {
        "id": "oOKqbUq7-0Qn",
        "colab_type": "code",
        "outputId": "31e42353-1354-49da-f509-dcfb7ad5b833",
        "colab": {
          "base_uri": "https://localhost:8080/",
          "height": 34
        }
      },
      "source": [
        "# Use get function\n",
        "bmw5series.get(\"doors\")"
      ],
      "execution_count": 0,
      "outputs": [
        {
          "output_type": "execute_result",
          "data": {
            "text/plain": [
              "5"
            ]
          },
          "metadata": {
            "tags": []
          },
          "execution_count": 7
        }
      ]
    },
    {
      "cell_type": "code",
      "metadata": {
        "id": "NvuPTwYl9_Fb",
        "colab_type": "code",
        "outputId": "3216f2a1-cf7e-4d93-d66d-4c5d53bcfd13",
        "colab": {
          "base_uri": "https://localhost:8080/",
          "height": 34
        }
      },
      "source": [
        "# Adding new key value-pair\n",
        "bmw5series['fuel'] = 'disel'\n",
        "print(bmw5series)"
      ],
      "execution_count": 0,
      "outputs": [
        {
          "output_type": "stream",
          "text": [
            "{'color': 'grey', 'doors': 5, 'fuel': 'disel'}\n"
          ],
          "name": "stdout"
        }
      ]
    },
    {
      "cell_type": "code",
      "metadata": {
        "id": "9GC50rSG_Bdm",
        "colab_type": "code",
        "outputId": "db0bf94b-7d8e-44df-91b0-e403c509e122",
        "colab": {
          "base_uri": "https://localhost:8080/",
          "height": 68
        }
      },
      "source": [
        "# loop through dictionary\n",
        "for x in bmw5series:\n",
        "  print(bmw5series[x])"
      ],
      "execution_count": 0,
      "outputs": [
        {
          "output_type": "stream",
          "text": [
            "grey\n",
            "5\n",
            "disel\n"
          ],
          "name": "stdout"
        }
      ]
    },
    {
      "cell_type": "code",
      "metadata": {
        "id": "Yg8D93nlDfGQ",
        "colab_type": "code",
        "outputId": "ef279c35-d8b7-49ac-a648-dfbd4e297ee7",
        "colab": {
          "base_uri": "https://localhost:8080/",
          "height": 68
        }
      },
      "source": [
        "# use value function\n",
        "for x in bmw5series.values():\n",
        "  print(x)"
      ],
      "execution_count": 0,
      "outputs": [
        {
          "output_type": "stream",
          "text": [
            "grey\n",
            "5\n",
            "disel\n"
          ],
          "name": "stdout"
        }
      ]
    },
    {
      "cell_type": "code",
      "metadata": {
        "id": "0IKXUgSgDmGn",
        "colab_type": "code",
        "outputId": "d009bde3-e5b8-4b19-9a4c-0734a55cc010",
        "colab": {
          "base_uri": "https://localhost:8080/",
          "height": 68
        }
      },
      "source": [
        "# Loop through both keys and values, by using the items() function:\n",
        "for x, y in bmw5series.items():\n",
        "  print(x, y)"
      ],
      "execution_count": 0,
      "outputs": [
        {
          "output_type": "stream",
          "text": [
            "color grey\n",
            "doors 5\n",
            "fuel disel\n"
          ],
          "name": "stdout"
        }
      ]
    },
    {
      "cell_type": "code",
      "metadata": {
        "id": "Y7EYdXHVESpa",
        "colab_type": "code",
        "outputId": "0fb95f62-3aba-420e-862d-4ba4f5f7fb9f",
        "colab": {
          "base_uri": "https://localhost:8080/",
          "height": 34
        }
      },
      "source": [
        "# The pop() method removes the item with the specified key name:\n",
        "bmw5series.pop(\"fuel\")\n",
        "print(bmw5series)"
      ],
      "execution_count": 0,
      "outputs": [
        {
          "output_type": "stream",
          "text": [
            "{'color': 'grey', 'doors': 5}\n"
          ],
          "name": "stdout"
        }
      ]
    },
    {
      "cell_type": "markdown",
      "metadata": {
        "id": "AHLARIqZW6js",
        "colab_type": "text"
      },
      "source": [
        "# User's Input\n",
        "\n",
        "Your programs can prompt the user for input. All input is stored as a string."
      ]
    },
    {
      "cell_type": "code",
      "metadata": {
        "id": "FPSIQW-VXFep",
        "colab_type": "code",
        "outputId": "774443f3-9b7b-4d47-970e-5328f6eb1706",
        "colab": {
          "base_uri": "https://localhost:8080/",
          "height": 51
        }
      },
      "source": [
        "name = input(\"What's your name? \")\n",
        "print(\"Hello, \" + name + \"!\")"
      ],
      "execution_count": 0,
      "outputs": [
        {
          "output_type": "stream",
          "text": [
            "What's your name? Haider\n",
            "Hello, Haider!\n"
          ],
          "name": "stdout"
        }
      ]
    },
    {
      "cell_type": "code",
      "metadata": {
        "id": "ZQeQreinXM-g",
        "colab_type": "code",
        "outputId": "fefe35b4-515d-4581-cba9-15de6e53c8c5",
        "colab": {
          "base_uri": "https://localhost:8080/",
          "height": 34
        }
      },
      "source": [
        "# Prompting for numerical input\n",
        "age = input(\"How old are you? \")\n",
        "age = int(age)"
      ],
      "execution_count": 0,
      "outputs": [
        {
          "output_type": "stream",
          "text": [
            "How old are you? 35\n"
          ],
          "name": "stdout"
        }
      ]
    },
    {
      "cell_type": "code",
      "metadata": {
        "id": "FcVT57JLXV3s",
        "colab_type": "code",
        "outputId": "1640835d-a6a9-4921-fe07-537cfb562e10",
        "colab": {
          "base_uri": "https://localhost:8080/",
          "height": 34
        }
      },
      "source": [
        "# Prompting for numerical input with decimals\n",
        "pi = input(\"What's the value of pi? \")\n",
        "pi = float(pi)"
      ],
      "execution_count": 0,
      "outputs": [
        {
          "output_type": "stream",
          "text": [
            "What's the value of pi? 3.14\n"
          ],
          "name": "stdout"
        }
      ]
    }
  ]
}