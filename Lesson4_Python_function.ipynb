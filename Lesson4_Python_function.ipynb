{
  "nbformat": 4,
  "nbformat_minor": 0,
  "metadata": {
    "colab": {
      "name": "Lesson4_Python_function.ipynb",
      "provenance": [],
      "collapsed_sections": [],
      "include_colab_link": true
    },
    "kernelspec": {
      "name": "python3",
      "display_name": "Python 3"
    }
  },
  "cells": [
    {
      "cell_type": "markdown",
      "metadata": {
        "id": "view-in-github",
        "colab_type": "text"
      },
      "source": [
        "<a href=\"https://colab.research.google.com/github/theclassofai/Intro_2_Colab_Python/blob/master/Lesson4_Python_function.ipynb\" target=\"_parent\"><img src=\"https://colab.research.google.com/assets/colab-badge.svg\" alt=\"Open In Colab\"/></a>"
      ]
    },
    {
      "cell_type": "markdown",
      "metadata": {
        "id": "Pvnl-qUqpGoe",
        "colab_type": "text"
      },
      "source": [
        "# Welcome to The Class of AI\n",
        "---\n"
      ]
    },
    {
      "cell_type": "markdown",
      "metadata": {
        "id": "EBo74OAnZk-a",
        "colab_type": "text"
      },
      "source": [
        "## Functions\n",
        "\n",
        "A function is a block of code which only runs when it is called. You can pass data, known as parameters, into a function. A function can return data as a result.\n"
      ]
    },
    {
      "cell_type": "code",
      "metadata": {
        "id": "qvM4PyiLX4XG",
        "colab_type": "code",
        "outputId": "eb163509-b874-4141-ca20-533b53bd7a41",
        "colab": {
          "base_uri": "https://localhost:8080/",
          "height": 34
        }
      },
      "source": [
        "def greet_user():\n",
        " print(\"Hello! Welcome to The Class of AI\")\n",
        "\n",
        "greet_user()"
      ],
      "execution_count": 0,
      "outputs": [
        {
          "output_type": "stream",
          "text": [
            "Hello! Welcome to The Class of AI\n"
          ],
          "name": "stdout"
        }
      ]
    },
    {
      "cell_type": "markdown",
      "metadata": {
        "id": "8mjhzbOYb73R",
        "colab_type": "text"
      },
      "source": [
        "#### Passing parameters to function\n",
        "\n",
        "* Information can be passed to functions as parameter. \n",
        "* Parameters are specified after the function name, inside the parentheses. \n",
        "* Add as many parameters as you want, just separate them with a comma."
      ]
    },
    {
      "cell_type": "code",
      "metadata": {
        "id": "7FqelWQ4cP3X",
        "colab_type": "code",
        "outputId": "df92c63c-5038-4948-88ad-6b41b1c5cbc2",
        "colab": {
          "base_uri": "https://localhost:8080/",
          "height": 68
        }
      },
      "source": [
        "def welcometoai(fname):\n",
        "  print(\" Welcome \"+ fname + \" to The Class of AI!\" )\n",
        "\n",
        "welcometoai(\"Adam\")\n",
        "welcometoai(\"Ali\")\n",
        "welcometoai(\"Krishna\")"
      ],
      "execution_count": 0,
      "outputs": [
        {
          "output_type": "stream",
          "text": [
            " Welcome Adam to The Class of AI!\n",
            " Welcome Ali to The Class of AI!\n",
            " Welcome Krishna to The Class of AI!\n"
          ],
          "name": "stdout"
        }
      ]
    },
    {
      "cell_type": "markdown",
      "metadata": {
        "id": "Yk9sJZH6c91O",
        "colab_type": "text"
      },
      "source": [
        "#### Default Parameter Value\n",
        "If we call the function without parameter, it uses the default value:"
      ]
    },
    {
      "cell_type": "code",
      "metadata": {
        "id": "-i1g3wbqdG6z",
        "colab_type": "code",
        "outputId": "67488bdb-96f1-4be0-fd3e-d1d924685fc5",
        "colab": {
          "base_uri": "https://localhost:8080/",
          "height": 85
        }
      },
      "source": [
        "def wholovescricket(country = \"England\"):\n",
        "  print(country + \" Loves playing Cricket\" )\n",
        "\n",
        "wholovescricket(\"India\")\n",
        "wholovescricket(\"Pakistan\")\n",
        "wholovescricket()\n",
        "wholovescricket(\"Australia\")"
      ],
      "execution_count": 0,
      "outputs": [
        {
          "output_type": "stream",
          "text": [
            "India Loves playing Cricket\n",
            "Pakistan Loves playing Cricket\n",
            "England Loves playing Cricket\n",
            "Australia Loves playing Cricket\n"
          ],
          "name": "stdout"
        }
      ]
    },
    {
      "cell_type": "markdown",
      "metadata": {
        "id": "SZzsTxgYeIRj",
        "colab_type": "text"
      },
      "source": [
        "#### Passing a List as a Parameter\n",
        "\n",
        "You can send any data types of parameter to a function (string, number, list, dictionary etc.), and it will be treated as the same data type inside the function.\n",
        "\n",
        "E.g. if you send a List as a parameter, it will still be a List when it reaches the function:"
      ]
    },
    {
      "cell_type": "code",
      "metadata": {
        "id": "yfR_haOZeHeZ",
        "colab_type": "code",
        "outputId": "6c822698-e2d9-45aa-c879-7e50f7047ef8",
        "colab": {
          "base_uri": "https://localhost:8080/",
          "height": 68
        }
      },
      "source": [
        "def mycar(cars):\n",
        "  for car in cars:\n",
        "    print(car)\n",
        "\n",
        "cars = [\"bmw\", \"audi\", \"toyota\"]\n",
        "\n",
        "mycar(cars)"
      ],
      "execution_count": 0,
      "outputs": [
        {
          "output_type": "stream",
          "text": [
            "bmw\n",
            "audi\n",
            "toyota\n"
          ],
          "name": "stdout"
        }
      ]
    },
    {
      "cell_type": "markdown",
      "metadata": {
        "id": "u-E-afuFesTO",
        "colab_type": "text"
      },
      "source": [
        "#### Return Values\n",
        "\n",
        "To let a function return a value, use the return statement:"
      ]
    },
    {
      "cell_type": "code",
      "metadata": {
        "id": "7wDx3awQewcC",
        "colab_type": "code",
        "outputId": "eeba046b-abe1-4d83-b7ea-d96350c08e91",
        "colab": {
          "base_uri": "https://localhost:8080/",
          "height": 68
        }
      },
      "source": [
        "def mypower(x):\n",
        "  return x**2\n",
        "\n",
        "print(mypower(3))\n",
        "print(mypower(5))\n",
        "print(mypower(9))"
      ],
      "execution_count": 0,
      "outputs": [
        {
          "output_type": "stream",
          "text": [
            "9\n",
            "25\n",
            "81\n"
          ],
          "name": "stdout"
        }
      ]
    },
    {
      "cell_type": "markdown",
      "metadata": {
        "id": "JIV9soizgldX",
        "colab_type": "text"
      },
      "source": [
        "#### Keyword Arguments\n",
        "\n",
        "You can also send arguments with the key = value syntax.\n",
        "This way the order of the arguments does not matter."
      ]
    },
    {
      "cell_type": "code",
      "metadata": {
        "id": "7Ff37CvKgjtm",
        "colab_type": "code",
        "outputId": "f3e1269e-3b1a-4577-d854-3aa12db9e1da",
        "colab": {
          "base_uri": "https://localhost:8080/",
          "height": 34
        }
      },
      "source": [
        "def myfavcar(car1, car2, car3):\n",
        "  print(\"My fav car is \" + car2)\n",
        "\n",
        "myfavcar(car1 = \"audi\", car2 = \"bmw\", car3 = \"toyota\")"
      ],
      "execution_count": 0,
      "outputs": [
        {
          "output_type": "stream",
          "text": [
            "My fav car is bmw\n"
          ],
          "name": "stdout"
        }
      ]
    },
    {
      "cell_type": "markdown",
      "metadata": {
        "id": "5TGzdalohJjW",
        "colab_type": "text"
      },
      "source": [
        "#### Arbitrary Arguments\n",
        "\n",
        "If you do not know how many arguments that will be passed into your function, add a * before the parameter name in the function definition. This way the function will receive a tuple of arguments, and can access the items accordingly:"
      ]
    },
    {
      "cell_type": "code",
      "metadata": {
        "id": "KX5A9RrqhPFI",
        "colab_type": "code",
        "outputId": "96655100-b31b-4bdb-9761-044a906e921f",
        "colab": {
          "base_uri": "https://localhost:8080/",
          "height": 34
        }
      },
      "source": [
        "def myfavcar(*cars):\n",
        "  print(\"My fav car is \" + cars[1])\n",
        "\n",
        "myfavcar(\"audi\", \"bmw\", \"toyota\")\n"
      ],
      "execution_count": 0,
      "outputs": [
        {
          "output_type": "stream",
          "text": [
            "My fav car is bmw\n"
          ],
          "name": "stdout"
        }
      ]
    }
  ]
}